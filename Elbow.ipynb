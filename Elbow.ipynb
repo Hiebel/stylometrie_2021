{
 "cells": [
  {
   "cell_type": "code",
   "execution_count": 9,
   "metadata": {},
   "outputs": [],
   "source": [
    "from fonctions import *"
   ]
  },
  {
   "cell_type": "code",
   "execution_count": 27,
   "metadata": {},
   "outputs": [],
   "source": [
    "# récupération des articles et des tags\n",
    "\n",
    "dic = lire_json(\"articlesTags_Stanford.json\")\n",
    "\n",
    "new_dic = reorganiser_POS(dic)\n",
    "\n",
    "# séparation des informations dans trois listes différentes\n",
    "\n",
    "chemins_articles = [x for x in new_dic.keys()]\n",
    "\n",
    "liste_tags = [x[1] for x in new_dic.values()]\n",
    "\n",
    "liste_titres = [x[2] for x in new_dic.values()]\n",
    "\n",
    "# Vectorisation des documents et création du model\n",
    "\n",
    "ngram_min, ngram_max = 4, 4\n",
    "\n",
    "X, V = creer_X(liste_tags, ngram_min, ngram_max)"
   ]
  },
  {
   "cell_type": "code",
   "execution_count": 28,
   "metadata": {},
   "outputs": [],
   "source": [
    "from sklearn import metrics \n",
    "from scipy.spatial.distance import cdist \n",
    "import numpy as np \n",
    "import operator"
   ]
  },
  {
   "cell_type": "code",
   "execution_count": 30,
   "metadata": {
    "scrolled": false
   },
   "outputs": [
    {
     "name": "stdout",
     "output_type": "stream",
     "text": [
      "1 clusters\n",
      "0 {'nb_docs': 5685, 'distance': 0.9600357848274532}\n",
      "----------\n",
      "2 clusters\n",
      "0 {'nb_docs': 811, 'distance': 0.8806302372637506}\n",
      "1 {'nb_docs': 4874, 'distance': 0.9599709194065248}\n",
      "----------\n",
      "3 clusters\n",
      "1 {'nb_docs': 483, 'distance': 0.8430992993567101}\n",
      "0 {'nb_docs': 4593, 'distance': 0.9585917206764967}\n",
      "2 {'nb_docs': 609, 'distance': 0.8872350623713373}\n",
      "----------\n",
      "4 clusters\n",
      "2 {'nb_docs': 663, 'distance': 0.8726744533021418}\n",
      "0 {'nb_docs': 4300, 'distance': 0.9575617668818911}\n",
      "3 {'nb_docs': 400, 'distance': 0.8607041613049469}\n",
      "1 {'nb_docs': 322, 'distance': 0.8477068652888247}\n",
      "----------\n",
      "5 clusters\n",
      "4 {'nb_docs': 597, 'distance': 0.8644498649320821}\n",
      "0 {'nb_docs': 4204, 'distance': 0.9569217267614438}\n",
      "1 {'nb_docs': 167, 'distance': 0.7585465445686888}\n",
      "2 {'nb_docs': 392, 'distance': 0.8588117993922598}\n",
      "3 {'nb_docs': 325, 'distance': 0.8508732847127161}\n",
      "----------\n",
      "6 clusters\n",
      "4 {'nb_docs': 549, 'distance': 0.8607860804327147}\n",
      "1 {'nb_docs': 613, 'distance': 0.9181594772295755}\n",
      "0 {'nb_docs': 3587, 'distance': 0.9528867954000922}\n",
      "3 {'nb_docs': 355, 'distance': 0.846898503763427}\n",
      "2 {'nb_docs': 308, 'distance': 0.8445717807695162}\n",
      "5 {'nb_docs': 273, 'distance': 0.8700748401629604}\n",
      "----------\n",
      "7 clusters\n",
      "3 {'nb_docs': 387, 'distance': 0.8279501043383644}\n",
      "1 {'nb_docs': 357, 'distance': 0.8884739253029179}\n",
      "0 {'nb_docs': 3774, 'distance': 0.9543114983671217}\n",
      "2 {'nb_docs': 347, 'distance': 0.8313532815224124}\n",
      "4 {'nb_docs': 349, 'distance': 0.8456545914040678}\n",
      "6 {'nb_docs': 320, 'distance': 0.8675346779361849}\n",
      "5 {'nb_docs': 151, 'distance': 0.775874764767315}\n",
      "----------\n",
      "8 clusters\n",
      "5 {'nb_docs': 384, 'distance': 0.8365538874840662}\n",
      "0 {'nb_docs': 3597, 'distance': 0.9528693598316599}\n",
      "1 {'nb_docs': 372, 'distance': 0.8392283849347437}\n",
      "4 {'nb_docs': 345, 'distance': 0.8880323010066561}\n",
      "7 {'nb_docs': 165, 'distance': 0.756245276357022}\n",
      "6 {'nb_docs': 304, 'distance': 0.8379387907256848}\n",
      "2 {'nb_docs': 249, 'distance': 0.8346115898827322}\n",
      "3 {'nb_docs': 269, 'distance': 0.8702621876608255}\n",
      "----------\n",
      "9 clusters\n",
      "4 {'nb_docs': 276, 'distance': 0.7879020700754428}\n",
      "7 {'nb_docs': 240, 'distance': 0.8542125128278307}\n",
      "3 {'nb_docs': 279, 'distance': 0.8658255741389749}\n",
      "0 {'nb_docs': 3312, 'distance': 0.9499795378363296}\n",
      "2 {'nb_docs': 281, 'distance': 0.7927007862273806}\n",
      "5 {'nb_docs': 481, 'distance': 0.9265405126586177}\n",
      "1 {'nb_docs': 326, 'distance': 0.8395462849936935}\n",
      "8 {'nb_docs': 254, 'distance': 0.8554181796021532}\n",
      "6 {'nb_docs': 236, 'distance': 0.8382399070923339}\n",
      "----------\n"
     ]
    }
   ],
   "source": [
    "# calcul de la distance entre les vecteurs de chaque clusters\n",
    "# 2 mesures : distortion et inertie\n",
    "# voir : https://www.geeksforgeeks.org/elbow-method-for-optimal-value-of-k-in-kmeans/\n",
    "\n",
    "distortions = [] \n",
    "inertias = []  \n",
    "K = range(1, 10)\n",
    "\n",
    "for k in K: \n",
    "    print(\"%s clusters\" % k)\n",
    "    kmeanModel = creer_model_KM(k, X)\n",
    "    \n",
    "    predictions = kmeanModel.predict(X)\n",
    "    \n",
    "    dic_eff = effectifs_clusters(kmeanModel)\n",
    "    d = calcul_cluster_heterogeneity(kmeanModel, X, predictions)\n",
    "    for k, v in d.items():\n",
    "        print(k, v)\n",
    "    \n",
    "    distortions.append(sum(np.min(cdist(X, kmeanModel.cluster_centers_, \n",
    "                    'euclidean'),axis=1)) / X.shape[0]) \n",
    "    inertias.append(kmeanModel.inertia_)\n",
    "    print(\"-\"*10)"
   ]
  },
  {
   "cell_type": "code",
   "execution_count": 31,
   "metadata": {},
   "outputs": [
    {
     "data": {
      "image/png": "[encoded data removed]",
      "text/plain": [
       "<Figure size 432x288 with 1 Axes>"
      ]
     },
     "metadata": {
      "needs_background": "light"
     },
     "output_type": "display_data"
    }
   ],
   "source": [
    "plt.plot(K, distortions, 'bx-') \n",
    "plt.xlabel('Values of K') \n",
    "plt.ylabel('Distortion') \n",
    "plt.title('The Elbow Method using Distortion') \n",
    "plt.show()"
   ]
  },
  {
   "cell_type": "code",
   "execution_count": 32,
   "metadata": {},
   "outputs": [
    {
     "data": {
      "image/png": "[encoded data removed]",
      "text/plain": [
       "<Figure size 432x288 with 1 Axes>"
      ]
     },
     "metadata": {
      "needs_background": "light"
     },
     "output_type": "display_data"
    }
   ],
   "source": [
    "plt.plot(K, inertias, 'bx-') \n",
    "plt.xlabel('Values of K') \n",
    "plt.ylabel('Inertia') \n",
    "plt.title('The Elbow Method using Inertia') \n",
    "plt.show()"
   ]
  },
  {
   "cell_type": "code",
   "execution_count": null,
   "metadata": {},
   "outputs": [],
   "source": []
  }
 ],
 "metadata": {
  "kernelspec": {
   "display_name": "Python 3",
   "language": "python",
   "name": "python3"
  },
  "language_info": {
   "codemirror_mode": {
    "name": "ipython",
    "version": 3
   },
   "file_extension": ".py",
   "mimetype": "text/x-python",
   "name": "python",
   "nbconvert_exporter": "python",
   "pygments_lexer": "ipython3",
   "version": "3.8.5"
  }
 },
 "nbformat": 4,
 "nbformat_minor": 2
}
