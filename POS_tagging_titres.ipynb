{
 "cells": [
  {
   "cell_type": "code",
   "execution_count": 26,
   "metadata": {},
   "outputs": [
    {
     "name": "stderr",
     "output_type": "stream",
     "text": [
      "[nltk_data] Downloading package averaged_perceptron_tagger to\n",
      "[nltk_data]     C:\\Users\\pao13\\AppData\\Roaming\\nltk_data...\n",
      "[nltk_data]   Unzipping taggers\\averaged_perceptron_tagger.zip.\n"
     ]
    },
    {
     "data": {
      "text/plain": [
       "True"
      ]
     },
     "execution_count": 26,
     "metadata": {},
     "output_type": "execute_result"
    }
   ],
   "source": [
    "import nltk, json\n",
    "from nltk import word_tokenize\n",
    "nltk.download('averaged_perceptron_tagger')"
   ]
  },
  {
   "cell_type": "code",
   "execution_count": 32,
   "metadata": {},
   "outputs": [],
   "source": [
    "def lire_json (chemin):\n",
    "    f = open(chemin, encoding=\"utf−8\")\n",
    "    dic = json.load(f)\n",
    "    f.close ()\n",
    "    return dic\n",
    "\n",
    "def ecrire_json (chemin, contenu):\n",
    "    w = open(chemin, \"w\", encoding=\"utf−8\")\n",
    "    w.write(json.dumps(contenu, indent =2 , ensure_ascii =False))\n",
    "    w.close ()"
   ]
  },
  {
   "cell_type": "code",
   "execution_count": 33,
   "metadata": {},
   "outputs": [],
   "source": [
    "dicTitres = lire_json('articles.json')\n",
    "\n",
    "titres = list(dicTitres.values())\n",
    "\n",
    "dicTag = {}\n",
    "for path, titre in dicTitres.items():\n",
    "    texte = word_tokenize(titre)\n",
    "    tags = nltk.pos_tag(texte)\n",
    "    dicTag.setdefault(path, [titre, tags])\n",
    "\n",
    "ecrire_json('articlesTags.json', dicTag)"
   ]
  },
  {
   "cell_type": "code",
   "execution_count": null,
   "metadata": {},
   "outputs": [],
   "source": []
  }
 ],
 "metadata": {
  "kernelspec": {
   "display_name": "Python 3",
   "language": "python",
   "name": "python3"
  },
  "language_info": {
   "codemirror_mode": {
    "name": "ipython",
    "version": 3
   },
   "file_extension": ".py",
   "mimetype": "text/x-python",
   "name": "python",
   "nbconvert_exporter": "python",
   "pygments_lexer": "ipython3",
   "version": "3.7.3"
  }
 },
 "nbformat": 4,
 "nbformat_minor": 2
}
