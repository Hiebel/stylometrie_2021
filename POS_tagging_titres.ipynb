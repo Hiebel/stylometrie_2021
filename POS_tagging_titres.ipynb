{
 "cells": [
  {
   "cell_type": "code",
   "execution_count": 3,
   "metadata": {},
   "outputs": [],
   "source": [
    "import nltk, json\n",
    "from nltk import word_tokenize\n",
    "from fonctions import *\n",
    "\n",
    "# si besoin, télécharger le tagger pour nltk\n",
    "#nltk.download('averaged_perceptron_tagger')\n",
    "\n",
    "# récupération des titres dans le dictionnaire de la forme {chemin : titre}\n",
    "dicTitres = lire_json('articles.json')\n",
    "\n",
    "#titres = list(dicTitres.values())\n",
    "\n",
    "dicTag = {}\n",
    "\n",
    "for path, titre in dicTitres.items():\n",
    "    tokens = word_tokenize(titre, language='french') # tokenisation du titre\n",
    "    tags = nltk.pos_tag(tokens) # tags des tokens\n",
    "    dicTag.setdefault(path, [titre, tags])\n",
    "\n",
    "ecrire_json('articlesTags.json', dicTag)"
   ]
  }
 ],
 "metadata": {
  "kernelspec": {
   "display_name": "Python 3",
   "language": "python",
   "name": "python3"
  },
  "language_info": {
   "codemirror_mode": {
    "name": "ipython",
    "version": 3
   },
   "file_extension": ".py",
   "mimetype": "text/x-python",
   "name": "python",
   "nbconvert_exporter": "python",
   "pygments_lexer": "ipython3",
   "version": "3.7.0"
  }
 },
 "nbformat": 4,
 "nbformat_minor": 2
}
