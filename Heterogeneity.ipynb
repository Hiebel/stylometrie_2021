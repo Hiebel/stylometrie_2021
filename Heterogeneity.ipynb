{
 "cells": [
  {
   "cell_type": "code",
   "execution_count": 2,
   "metadata": {},
   "outputs": [],
   "source": [
    "from fonctions import *\n",
    "from sklearn import metrics \n",
    "from scipy.spatial.distance import cdist \n",
    "import numpy as np \n",
    "import operator\n",
    "\n",
    "# récupération des articles et des tags\n",
    "\n",
    "dic = lire_json(\"articlesTags_Stanford.json\")\n",
    "\n",
    "new_dic = reorganiser_POS(dic)\n",
    "\n",
    "# séparation des informations dans trois listes différentes\n",
    "\n",
    "chemins_articles = [x for x in new_dic.keys()]\n",
    "\n",
    "liste_tags = [x[1] for x in new_dic.values()]\n",
    "\n",
    "liste_titres = [x[2] for x in new_dic.values()]\n",
    "\n",
    "# Vectorisation des documents et création du model\n",
    "\n",
    "ngram_min, ngram_max = 4, 4\n",
    "\n",
    "X, V = creer_X(liste_tags, ngram_min, ngram_max)\n",
    "\n",
    "kmeanModel = creer_model_KM(8, X)\n",
    "\n",
    "predictions = kmeanModel.predict(X)"
   ]
  },
  {
   "cell_type": "code",
   "execution_count": 3,
   "metadata": {},
   "outputs": [
    {
     "name": "stdout",
     "output_type": "stream",
     "text": [
      "6 {'nb_docs': 311, 'distance': 0.8039236757884186}\n",
      "5 {'nb_docs': 262, 'distance': 0.8519971388995364}\n",
      "4 {'nb_docs': 438, 'distance': 0.9143927797224771}\n",
      "0 {'nb_docs': 3512, 'distance': 0.9522223947174971}\n",
      "3 {'nb_docs': 389, 'distance': 0.8445970803721599}\n",
      "1 {'nb_docs': 237, 'distance': 0.7922759985814902}\n",
      "7 {'nb_docs': 304, 'distance': 0.8655027167988502}\n",
      "2 {'nb_docs': 232, 'distance': 0.8478275341726607}\n"
     ]
    }
   ],
   "source": [
    "d = calcul_cluster_heterogeneity(kmeanModel, X, predictions)\n",
    "for k, v in d.items():\n",
    "    print(k, v)"
   ]
  },
  {
   "cell_type": "code",
   "execution_count": null,
   "metadata": {},
   "outputs": [],
   "source": []
  }
 ],
 "metadata": {
  "kernelspec": {
   "display_name": "Python 3",
   "language": "python",
   "name": "python3"
  },
  "language_info": {
   "codemirror_mode": {
    "name": "ipython",
    "version": 3
   },
   "file_extension": ".py",
   "mimetype": "text/x-python",
   "name": "python",
   "nbconvert_exporter": "python",
   "pygments_lexer": "ipython3",
   "version": "3.8.5"
  }
 },
 "nbformat": 4,
 "nbformat_minor": 4
}
