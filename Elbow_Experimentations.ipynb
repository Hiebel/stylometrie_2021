{
 "cells": [
  {
   "cell_type": "code",
   "execution_count": 1,
   "metadata": {},
   "outputs": [],
   "source": [
    "from fonctions import *"
   ]
  },
  {
   "cell_type": "code",
   "execution_count": 2,
   "metadata": {},
   "outputs": [],
   "source": [
    "# récupération des articles et des tags\n",
    "\n",
    "dic = lire_json(\"articlesTags_Stanford.json\")\n",
    "\n",
    "new_dic = reorganiser_POS(dic)\n",
    "\n",
    "# séparation des informations dans trois listes différentes\n",
    "\n",
    "chemins_articles = [x for x in new_dic.keys()]\n",
    "\n",
    "liste_tags = [x[1] for x in new_dic.values()]\n",
    "\n",
    "liste_titres = [x[2] for x in new_dic.values()]\n",
    "\n",
    "# Vectorisation des documents et création du model\n",
    "\n",
    "ngram_min, ngram_max = 4, 4\n",
    "\n",
    "X, V = creer_X(liste_tags, ngram_min, ngram_max)"
   ]
  },
  {
   "cell_type": "code",
   "execution_count": 3,
   "metadata": {},
   "outputs": [],
   "source": [
    "from sklearn import metrics \n",
    "from scipy.spatial.distance import cdist \n",
    "import numpy as np \n",
    "import operator"
   ]
  },
  {
   "cell_type": "code",
   "execution_count": 48,
   "metadata": {
    "scrolled": false
   },
   "outputs": [
    {
     "name": "stdout",
     "output_type": "stream",
     "text": [
      "2 clusters\n",
      "{1: 1892, 0: 3793}\n",
      "{0: 1892}\n",
      "3 clusters\n",
      "{0: 1626, 2: 1033, 1: 3026}\n",
      "{0: 1635, 1: 1024}\n",
      "4 clusters\n",
      "{2: 1097, 1: 948, 3: 2618, 0: 1022}\n",
      "{1: 1098, 2: 950, 0: 1019}\n",
      "5 clusters\n",
      "{0: 968, 3: 780, 2: 842, 4: 2208, 1: 887}\n",
      "{0: 938, 1: 775, 2: 863, 3: 901}\n",
      "6 clusters\n",
      "{5: 486, 4: 792, 1: 762, 0: 2008, 2: 882, 3: 755}\n",
      "{2: 494, 3: 765, 0: 777, 1: 880, 4: 761}\n",
      "7 clusters\n",
      "{1: 627, 2: 432, 0: 591, 4: 2077, 6: 837, 5: 482, 3: 639}\n",
      "{4: 627, 0: 425, 3: 595, 2: 838, 1: 489, 5: 634}\n",
      "8 clusters\n",
      "{2: 559, 4: 398, 1: 679, 0: 1863, 3: 755, 6: 471, 5: 572, 7: 388}\n",
      "{3: 552, 5: 414, 1: 647, 4: 757, 6: 484, 0: 572, 2: 396}\n",
      "9 clusters\n",
      "{2: 464, 6: 399, 1: 534, 3: 1948, 4: 491, 7: 490, 8: 653, 5: 455, 0: 251}\n",
      "{0: 479, 6: 404, 4: 529, 5: 489, 2: 492, 3: 647, 7: 454, 1: 243}\n"
     ]
    }
   ],
   "source": [
    "# calcul de la distance entre les vecteurs de chaque clusters\n",
    "# 2 mesures : distortion et inertie\n",
    "# voir : https://www.geeksforgeeks.org/elbow-method-for-optimal-value-of-k-in-kmeans/\n",
    "\n",
    "# ici, on récupère les vecteurs déjà calculés sans ceux du cluster poubelle\n",
    "\n",
    "distortions = [] \n",
    "inertias = []  \n",
    "K = range(2, 10)\n",
    "\n",
    "for k in K: \n",
    "    print(\"%s clusters\" % k)\n",
    "    kmeanModel = creer_model_KM(k, X)\n",
    "    \n",
    "    dic_eff = effectifs_clusters(kmeanModel)\n",
    "    print(dic_eff)\n",
    "    \n",
    "    # retirer le cluster le plus peuplé \n",
    "    predictions = kmeanModel.predict(X)\n",
    "    nb_clus = k\n",
    "    cluster_poub = -1\n",
    "    if k > 1:\n",
    "        cluster_poub = max(dic_eff.items(), key=operator.itemgetter(1))[0]\n",
    "        nb_clus = k-1\n",
    "    new_X = []\n",
    "    for i in range(len(X)):\n",
    "        if predictions[i] != cluster_poub:\n",
    "            new_X.append(X[i])\n",
    "            \n",
    "    X_2 = np.array(new_X)\n",
    "    kmeanModel2 = creer_model_KM((nb_clus), X_2)\n",
    "    dic_eff = effectifs_clusters(kmeanModel2)\n",
    "    print(dic_eff)\n",
    "    \n",
    "    distortions.append(sum(np.min(cdist(X_2, kmeanModel2.cluster_centers_, \n",
    "                    'euclidean'),axis=1)) / X_2.shape[0]) \n",
    "    inertias.append(kmeanModel2.inertia_)"
   ]
  },
  {
   "cell_type": "code",
   "execution_count": 55,
   "metadata": {},
   "outputs": [
    {
     "name": "stdout",
     "output_type": "stream",
     "text": [
      "1 clusters\n",
      "{0: 5685}\n",
      "{0: 5685}\n",
      "2 clusters\n",
      "{1: 790, 0: 4895}\n"
     ]
    },
    {
     "name": "stderr",
     "output_type": "stream",
     "text": [
      "E:\\anaconda3\\lib\\site-packages\\sklearn\\cluster\\_kmeans.py:881: UserWarning: KMeans is known to have a memory leak on Windows with MKL, when there are less chunks than available threads. You can avoid it by setting the environment variable OMP_NUM_THREADS=4.\n",
      "  warnings.warn(\n"
     ]
    },
    {
     "name": "stdout",
     "output_type": "stream",
     "text": [
      "{0: 790}\n",
      "3 clusters\n",
      "{1: 786, 0: 4504, 2: 395}\n",
      "{0: 787, 1: 394}\n",
      "4 clusters\n",
      "{3: 447, 0: 4253, 1: 525, 2: 460}\n",
      "{2: 445, 0: 520, 1: 467}\n",
      "5 clusters\n",
      "{3: 408, 0: 3941, 4: 516, 1: 390, 2: 430}\n",
      "{2: 399, 3: 522, 0: 376, 1: 447}\n",
      "6 clusters\n",
      "{4: 341, 0: 3966, 1: 347, 5: 329, 2: 403, 3: 299}\n",
      "{4: 339, 1: 351, 2: 331, 0: 398, 3: 300}\n",
      "7 clusters\n",
      "{2: 345, 0: 3775, 6: 328, 4: 451, 3: 162, 5: 364, 1: 260}\n",
      "{5: 344, 4: 338, 1: 624, 2: 162, 0: 168, 3: 274}\n",
      "8 clusters\n",
      "{0: 461, 4: 294, 1: 3286, 2: 301, 3: 465, 5: 306, 6: 284, 7: 288}\n",
      "{2: 462, 6: 271, 3: 293, 0: 797, 1: 116, 5: 166, 4: 294}\n",
      "9 clusters\n",
      "{8: 287, 5: 262, 0: 3405, 4: 256, 3: 331, 1: 337, 2: 315, 7: 260, 6: 232}\n",
      "{2: 282, 1: 259, 4: 245, 3: 366, 6: 368, 7: 288, 5: 254, 0: 218}\n"
     ]
    }
   ],
   "source": [
    "# calcul de la distance entre les vecteurs de chaque clusters\n",
    "# 2 mesures : distortion et inertie\n",
    "# voir : https://www.geeksforgeeks.org/elbow-method-for-optimal-value-of-k-in-kmeans/\n",
    "\n",
    "# ici, on recalcule les vecteurs en ayant supprimé les titres des articles du cluster poubelle\n",
    "\n",
    "distortions = [] \n",
    "inertias = []  \n",
    "K = range(1, 10)\n",
    "\n",
    "for k in K: \n",
    "    print(\"%s clusters\" % k)\n",
    "    kmeanModel = creer_model_KM(k, X)\n",
    "    \n",
    "    dic_eff = effectifs_clusters(kmeanModel)\n",
    "    print(dic_eff)\n",
    "    \n",
    "    # repérer le cluster le plus peuplé \n",
    "    predictions = kmeanModel.predict(X)\n",
    "    nb_clus = k\n",
    "    cluster_poub = -1\n",
    "    if k > 1:\n",
    "        cluster_poub = max(dic_eff.items(), key=operator.itemgetter(1))[0]\n",
    "        nb_clus = k-1\n",
    "    \n",
    "    # préparer les nouvelles données à clusteriser\n",
    "    new_tags = []\n",
    "    for i in range(len(liste_tags)):\n",
    "        if predictions[i] != cluster_poub:\n",
    "            new_tags.append(liste_tags[i])\n",
    "    \n",
    "    X_2, V_2 = creer_X(new_tags, ngram_min, ngram_max)\n",
    "    kmeanModel2 = creer_model_KM((nb_clus), X_2)\n",
    "    dic_eff = effectifs_clusters(kmeanModel2)\n",
    "    print(dic_eff)\n",
    "    \n",
    "    distortions.append(sum(np.min(cdist(X_2, kmeanModel2.cluster_centers_, \n",
    "                    'euclidean'),axis=1)) / X_2.shape[0]) \n",
    "    inertias.append(kmeanModel2.inertia_)"
   ]
  },
  {
   "cell_type": "code",
   "execution_count": 56,
   "metadata": {},
   "outputs": [
    {
     "data": {
      "image/png": "[encoded data removed]",
      "text/plain": [
       "<Figure size 432x288 with 1 Axes>"
      ]
     },
     "metadata": {
      "needs_background": "light"
     },
     "output_type": "display_data"
    }
   ],
   "source": [
    "plt.plot(K, distortions, 'bx-') \n",
    "plt.xlabel('Values of K') \n",
    "plt.ylabel('Distortion') \n",
    "plt.title('The Elbow Method using Distortion') \n",
    "plt.show()"
   ]
  },
  {
   "cell_type": "code",
   "execution_count": 57,
   "metadata": {},
   "outputs": [
    {
     "data": {
      "image/png": "[encoded data removed]",
      "text/plain": [
       "<Figure size 432x288 with 1 Axes>"
      ]
     },
     "metadata": {
      "needs_background": "light"
     },
     "output_type": "display_data"
    }
   ],
   "source": [
    "plt.plot(K, inertias, 'bx-') \n",
    "plt.xlabel('Values of K') \n",
    "plt.ylabel('Inertia') \n",
    "plt.title('The Elbow Method using Inertia') \n",
    "plt.show()"
   ]
  },
  {
   "cell_type": "code",
   "execution_count": null,
   "metadata": {},
   "outputs": [],
   "source": []
  }
 ],
 "metadata": {
  "kernelspec": {
   "display_name": "Python 3",
   "language": "python",
   "name": "python3"
  },
  "language_info": {
   "codemirror_mode": {
    "name": "ipython",
    "version": 3
   },
   "file_extension": ".py",
   "mimetype": "text/x-python",
   "name": "python",
   "nbconvert_exporter": "python",
   "pygments_lexer": "ipython3",
   "version": "3.8.5"
  }
 },
 "nbformat": 4,
 "nbformat_minor": 2
}
