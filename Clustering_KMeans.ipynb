{
 "cells": [
  {
   "cell_type": "code",
   "execution_count": 1,
   "metadata": {},
   "outputs": [],
   "source": [
    "import json\n",
    "import glob\n",
    "\n",
    "def lire_json(chemin):\n",
    "    with open(chemin, \"r\", encoding=\"utf-8\") as fin:\n",
    "        dic = json.load(fin)\n",
    "    return dic\n",
    "\n",
    "def ecrire_json(chemin, dic):\n",
    "    with open(chemin, \"w\", encoding=\"utf-8\") as fout:\n",
    "        fout.write(json.dumps(dic, ensure_ascii=False, indent=2))"
   ]
  },
  {
   "cell_type": "code",
   "execution_count": 2,
   "metadata": {},
   "outputs": [
    {
     "name": "stdout",
     "output_type": "stream",
     "text": [
      "5685\n"
     ]
    }
   ],
   "source": [
    "with open(\"articlesTags.json\", \"r\", encoding=\"utf-8\") as fin:\n",
    "    dic = json.load(fin)\n",
    "\n",
    "print(len(dic))"
   ]
  },
  {
   "cell_type": "code",
   "execution_count": 37,
   "metadata": {},
   "outputs": [
    {
     "name": "stdout",
     "output_type": "stream",
     "text": [
      "5685\n",
      "french-docs/2009\\01\\01\\20090101_Elmoudjahid_69e98e7fc33abc878f8cfb6bd32fe498 [['Identification', 'de', 'trois', 'gènes', 'expliquant', 'la', 'virulence', 'de', 'la', 'grippe', 'espagnole', 'de', '1918'], ['NNP', 'FW', 'FW', 'NNS', 'VBP', 'JJ', 'NN', 'IN', 'FW', 'JJ', 'FW', 'IN', 'CD'], 'Identification de trois gènes expliquant la virulence de la grippe espagnole de 1918']\n"
     ]
    }
   ],
   "source": [
    "new_dic = {}\n",
    "\n",
    "for k, v in dic.items():\n",
    "    mots = []\n",
    "    tags = []\n",
    "    for mot, tag in v[1]:\n",
    "        mots.append(mot)\n",
    "        tags.append(tag)\n",
    "    new_dic[k] = []\n",
    "    new_dic[k].append(mots)\n",
    "    new_dic[k].append(tags)\n",
    "    new_dic[k].append(v[0])\n",
    "    \n",
    "print(len(new_dic))\n",
    "\n",
    "for k, v in new_dic.items():\n",
    "    print(k, v)\n",
    "    break"
   ]
  },
  {
   "cell_type": "code",
   "execution_count": 38,
   "metadata": {},
   "outputs": [
    {
     "name": "stdout",
     "output_type": "stream",
     "text": [
      "french-docs/2009\\01\\01\\20090101_Elmoudjahid_69e98e7fc33abc878f8cfb6bd32fe498\n",
      "[['NNP', 'FW', 'FW', 'NNS', 'VBP', 'JJ', 'NN', 'IN', 'FW', 'JJ', 'FW', 'IN', 'CD'], ['NNP', 'NNS', 'VBP', 'NN', ':', 'IN', 'NNS', 'VBP', 'JJR', 'NN', 'NN', 'NN', 'JJ', 'NN'], ['NNP', 'FW', 'FW', '.', 'NNS', 'NNS', ':']]\n",
      "['Identification de trois gènes expliquant la virulence de la grippe espagnole de 1918', 'Les chantiers du Président : On ne peut cacher le soleil avec un tamis', 'Gueule de bois ? Quelques remèdes...']\n"
     ]
    }
   ],
   "source": [
    "articles = [x for x in new_dic.keys()]\n",
    "print(articles[0])\n",
    "\n",
    "liste_tags = [x[1] for x in new_dic.values()]\n",
    "\n",
    "liste_titres = [x[2] for x in new_dic.values()]\n",
    "\n",
    "print(liste_tags[:3])\n",
    "print(liste_titres[:3])"
   ]
  },
  {
   "cell_type": "code",
   "execution_count": 119,
   "metadata": {
    "scrolled": true
   },
   "outputs": [
    {
     "name": "stdout",
     "output_type": "stream",
     "text": [
      "['NNP', 'FW', 'FW', 'NNS', 'VBP', 'JJ', 'NN', 'IN', 'FW', 'JJ', 'FW', 'IN', 'CD']\n",
      "['NNP FW FW NNS VBP JJ NN IN FW JJ FW IN CD', 'NNP NNS VBP NN : IN NNS VBP JJR NN NN NN JJ NN', 'NNP FW FW . NNS NNS :']\n",
      "[[0 1 0 0 4 2 2 0 0 0 1 1 0 1 0 0 0 0 0 0 0 0 0 0 0 0 1 0 0]\n",
      " [0 0 0 0 0 1 1 1 0 0 5 1 0 2 0 0 0 0 0 0 0 0 0 0 0 0 2 0 0]\n",
      " [0 0 0 0 2 0 0 0 0 0 0 1 0 2 0 0 0 0 0 0 0 0 0 0 0 0 0 0 0]]\n",
      "5685\n"
     ]
    }
   ],
   "source": [
    "from sklearn.cluster import KMeans\n",
    "from sklearn.feature_extraction.text import CountVectorizer\n",
    "\n",
    "nb_clusters = 7\n",
    "\n",
    "model = KMeans(n_clusters=nb_clusters)\n",
    "\n",
    "V = CountVectorizer()\n",
    "\n",
    "liste_t = [\" \".join(x) for x in liste_tags]\n",
    "\n",
    "print(liste_tags[0])\n",
    "print(liste_t[:3])\n",
    "\n",
    "X = V.fit_transform(liste_t).toarray()\n",
    "\n",
    "print(X[:3])\n",
    "print(len(X))"
   ]
  },
  {
   "cell_type": "code",
   "execution_count": 106,
   "metadata": {
    "scrolled": true
   },
   "outputs": [
    {
     "name": "stdout",
     "output_type": "stream",
     "text": [
      "[5 1 4 4 2 2 4 2 1 1 3 5 4 2 4 1 1 4 2 4 5 5 4 4 5 4 5 1 1 1 1 0 0 5 1 5 0\n",
      " 1 2 2 0 0 2 2 1 4 2 4 5 4 4 1 4 4 1 5 5 0 1 5 4 5 1 1 4 4 4 4 2 4 5 2 4 1\n",
      " 4 5 0 2 1 5 5 5 2 2 5 1 4 4 4 2 0 4 4 5 2 2 2 4 2 2]\n"
     ]
    }
   ],
   "source": [
    "model.fit(X)\n",
    "\n",
    "all_predictions = model.predict(X)\n",
    "\n",
    "print(all_predictions[:100])"
   ]
  },
  {
   "cell_type": "code",
   "execution_count": 102,
   "metadata": {},
   "outputs": [],
   "source": [
    "dic_res = {}\n",
    "\n",
    "for i in range(len(X)):\n",
    "    #print(X[i])\n",
    "    num_cluster = all_predictions[i]\n",
    "    titre = liste_titres[i]\n",
    "    tags = liste_t[i]\n",
    "    #vecteur = X[i]\n",
    "    dic_res.setdefault(num_cluster,  [])\n",
    "    dic_res[num_cluster].append((titre, tags, vecteur))"
   ]
  },
  {
   "cell_type": "code",
   "execution_count": 115,
   "metadata": {
    "collapsed": true
   },
   "outputs": [
    {
     "name": "stdout",
     "output_type": "stream",
     "text": [
      "Cluster 0 : 1619 articles\n",
      "('Grippe: 310 000 personnes touchées en deux semaines',)\n",
      "(\"Les fils d'exilés reconnus\",)\n",
      "('Plus de 450 nouveaux admis au BTS et DSEP',)\n",
      "('Soins - Faut-il un Grenelle des hôpitaux ?',)\n",
      "('Tensions à Jérusalem',)\n",
      "----------\n",
      "Cluster 1 : 111 articles\n",
      "('Les artistes sengagent LOffice national de la famille et de la population (Onfp) a organisé, mercredi, une rencontre avec une pléiade dartistes et communicateurs, dans le cadre de la célébration de la Journée mondiale de lutte contre le sida.',)\n",
      "('Dépistage précoce pour prévenir les risques LOffice national de la famille et de la population (Onfp) a entamé récemment la 8e session «année 2009» sur le thème «La lutte contre les cancers féminins : un problème de santé publique».',)\n",
      "(\"Santé. La dotation du PEPFAR pourra atteindre 48 milliards de dollars pour la période de 2009 à 2013 Au cours des cinq prochaines années, le PEPFAR permettra de soigner au moins trois millions de personnes en Afrique, de prévenir douze millions de cas d'infection et de prendre en charge douze....\",)\n",
      "(\"Un plan pour la prévention du sida Le ministère de l'Education et de la Formation a mis en place un plan global en vue de développer l'éducation sanitaire et de renforcer la prévention du sida en milieu scolaire.\",)\n",
      "('La voix de la sagesse et de lespoir Par Mouldi MBAREK Le syndicat des journalistes palestiniens a décidé de proclamer : «Le Président Ben Ali, personnalité de lannée 2006». Les journalistes palestiniens soulignent que «le Président Ben Ali est dans le cur de toutes les familles palestiniennes et....',)\n",
      "----------\n",
      "Cluster 2 : 1632 articles\n",
      "('Le mystère du presbytère sanglant et autres histoires qui font peur',)\n",
      "('Zimbabwe: Mugabe appelle ses partisans à \"l\\'unité\" pour protéger son parti',)\n",
      "('4 X 4 à contresens : la piste du traitement médicamenteux ?',)\n",
      "('Pékin redoute un printemps social agité',)\n",
      "(\"Kenya : vers l'état d'urgence sur la crise alimentaire (PAPIER GENERAL)\",)\n",
      "----------\n",
      "Cluster 3 : 798 articles\n",
      "('Parlement : Joseph Kabila rend compte aux députés et sénateurs en congrès',)\n",
      "(\"Nuit d'emeute en Grèce après la mort d'un adolescent tué par la police\",)\n",
      "('Agression barbare israélienne contre Gaza : Les Marocains dénoncent le génocide du peuple palestinien',)\n",
      "('Lutte contre le paludisme : le coordonnateur du PNLP préconise une approche multisectorielle',)\n",
      "(\"Grèce: l'adolescent grec tué par un policier inhumé près d'Athènes\",)\n",
      "----------\n",
      "Cluster 4 : 120 articles\n",
      "(\"Bon Aïd !  La célébration, aujourd'hui, de l'Aïd El Kebir, ne nous empêche pas de traiter d'un thème pas trop gai, mais d'une brûlante actualité. En effet, à l'instar de tous les pays de la Planète Terre, la Tunisie vient de célébrer la Journée mondiale de lutte contre le sida, ce fléau qui....\",)\n",
      "('Mardi 03 Février Clôture atelier sur les messages médiatiques de lutte contre le VIH/SIDA C et atelier est une suite logique de concertation et de réflexion dédié à la lutte contre le SIDA conformément à la stratégie préétabli 2008/2012.',)\n",
      "('apprenons par un contact que certains infirmiers se livreraient àdes pratiques indignes et même à des escroqueries. Pendant que nous enquêtions sur le terrain, nous apprenons quune note de service controversée aurait été placardée sur les tableaux. Celle-ci informerait le public de la fermeture du bloc opératoire par manque de fils de suture.',)\n",
      "('Faire prévaloir la voix de la raison La Presse  Le Président Zine El Abidine Ben Ali sest rendu hier au Koweït pour participer aux travaux du sommet arabe qui se tiendra aujourdhui et demain.',)\n",
      "(\"Quand l'UMA parle d'une seule et même voix Par Noureddine HLAOUI Le drame humanitaire imposé au peuple palestinien, suite à l'agression lâche et barbare perpétrée par les troupes d'occupation israéliennes dans la bande de Gaza, a suscité de multiples tractations à l'échelle régionale et....\",)\n",
      "----------\n",
      "Cluster 5 : 794 articles\n",
      "('LES HUÎTRES RÉSISTENT CONTRE VENTS ET MARÉES',)\n",
      "('Le Pakistan victime du terrorisme, par Asif Ali Zardari',)\n",
      "('CL-Expert : MUGABE, LE CHOLERA et NOUS : Lorsque lhypocrisie sexprime.',)\n",
      "('Tivaouane a prié pour Sokhna Safiétou Dème',)\n",
      "(\"Réagissant aux propos tenus à El Tarf par l'ex-président de la république : Nezzar répond à Chadli\",)\n",
      "----------\n",
      "Cluster 6 : 611 articles\n",
      "('Korhogo : A l`assaut de la tuberculose (Frat Mat)',)\n",
      "('Mugabe refuse de dmissionner malgr les pressions occidentales',)\n",
      "('Digromed : Les travailleurs en grève dès demain',)\n",
      "('Lexcédent commercial de lAlgérie avec les pays arabes a connu une hausse de 225% en 2008, passan...',)\n",
      "('La présidence de l\\'UE qualifie de \"défensif\" le carnage',)\n",
      "----------\n"
     ]
    }
   ],
   "source": [
    "from random import randint\n",
    "\n",
    "echantillons = []\n",
    "\n",
    "taille_echantillons = 5\n",
    "    \n",
    "for i in range(nb_clusters):\n",
    "    echantillons.append([])\n",
    "    #print(len(dic_res[i]))\n",
    "    for j in range(taille_echantillons):\n",
    "        indice = randint(0, len(dic_res[i]))\n",
    "        #print(indice)\n",
    "        echantillons[i].append(dic_res[i][indice][:1])\n",
    "\n",
    "for i in range(len(echantillons)):\n",
    "    print(\"Cluster %s : %s articles\" % (i, len(dic_res[i])))\n",
    "    for titre in echantillons[i]:\n",
    "        print(titre)\n",
    "    print(\"-\"*10)"
   ]
  },
  {
   "cell_type": "code",
   "execution_count": 1,
   "metadata": {},
   "outputs": [
    {
     "ename": "NameError",
     "evalue": "name 'model' is not defined",
     "output_type": "error",
     "traceback": [
      "\u001b[1;31m---------------------------------------------------------------------------\u001b[0m",
      "\u001b[1;31mNameError\u001b[0m                                 Traceback (most recent call last)",
      "\u001b[1;32m<ipython-input-1-678957398422>\u001b[0m in \u001b[0;36m<module>\u001b[1;34m()\u001b[0m\n\u001b[1;32m----> 1\u001b[1;33m \u001b[0morder_centroids\u001b[0m \u001b[1;33m=\u001b[0m \u001b[0mmodel\u001b[0m\u001b[1;33m.\u001b[0m\u001b[0mcluster_centers_\u001b[0m\u001b[1;33m.\u001b[0m\u001b[0margsort\u001b[0m\u001b[1;33m(\u001b[0m\u001b[1;33m)\u001b[0m\u001b[1;33m[\u001b[0m\u001b[1;33m:\u001b[0m\u001b[1;33m,\u001b[0m \u001b[1;33m:\u001b[0m\u001b[1;33m:\u001b[0m\u001b[1;33m-\u001b[0m\u001b[1;36m1\u001b[0m\u001b[1;33m]\u001b[0m\u001b[1;33m\u001b[0m\u001b[0m\n\u001b[0m\u001b[0;32m      2\u001b[0m \u001b[1;33m\u001b[0m\u001b[0m\n\u001b[0;32m      3\u001b[0m \u001b[0mterms\u001b[0m \u001b[1;33m=\u001b[0m \u001b[0mV\u001b[0m\u001b[1;33m.\u001b[0m\u001b[0mget_feature_names\u001b[0m\u001b[1;33m(\u001b[0m\u001b[1;33m)\u001b[0m\u001b[1;33m\u001b[0m\u001b[0m\n\u001b[0;32m      4\u001b[0m \u001b[1;33m\u001b[0m\u001b[0m\n\u001b[0;32m      5\u001b[0m \u001b[1;32mfor\u001b[0m \u001b[0mi\u001b[0m \u001b[1;32min\u001b[0m \u001b[0mrange\u001b[0m\u001b[1;33m(\u001b[0m\u001b[0mnb_clusters\u001b[0m\u001b[1;33m)\u001b[0m\u001b[1;33m:\u001b[0m\u001b[1;33m\u001b[0m\u001b[0m\n",
      "\u001b[1;31mNameError\u001b[0m: name 'model' is not defined"
     ]
    }
   ],
   "source": [
    "order_centroids = model.cluster_centers_.argsort()[:, ::-1]\n",
    "\n",
    "terms = V.get_feature_names()\n",
    "\n",
    "for i in range(nb_clusters):\n",
    "    print(\"Cluster %d:\" % i, end='')\n",
    "    for ind in order_centroids[i, :10]:\n",
    "        print(' %s' % terms[ind], end='')\n",
    "    print()"
   ]
  },
  {
   "cell_type": "code",
   "execution_count": 120,
   "metadata": {},
   "outputs": [
    {
     "name": "stderr",
     "output_type": "stream",
     "text": [
      "No handles with labels found to put in legend.\n"
     ]
    },
    {
     "data": {
      "image/png": "[encoded data removed]",
      "text/plain": [
       "<Figure size 432x288 with 1 Axes>"
      ]
     },
     "metadata": {
      "needs_background": "light"
     },
     "output_type": "display_data"
    }
   ],
   "source": [
    "from sklearn.manifold import TSNE\n",
    "import matplotlib.pyplot as plt\n",
    "\n",
    "# Defining Model\n",
    "model_tsne = TSNE(learning_rate=100)\n",
    "\n",
    "# Fitting Model\n",
    "transformed = model_tsne.fit_transform(X)\n",
    "\n",
    "# Plotting 2d t-Sne\n",
    "x_axis = transformed[:, 0]\n",
    "y_axis = transformed[:, 1]\n",
    "\n",
    "\n",
    "# à faire : ajouter le numéro de cluster\n",
    "plt.scatter(x_axis, y_axis, c=all_predictions)\n",
    "plt.legend()\n",
    "plt.savefig(\"test.png\")\n",
    "plt.show()"
   ]
  },
  {
   "cell_type": "code",
   "execution_count": null,
   "metadata": {},
   "outputs": [],
   "source": []
  }
 ],
 "metadata": {
  "kernelspec": {
   "display_name": "Python 3",
   "language": "python",
   "name": "python3"
  },
  "language_info": {
   "codemirror_mode": {
    "name": "ipython",
    "version": 3
   },
   "file_extension": ".py",
   "mimetype": "text/x-python",
   "name": "python",
   "nbconvert_exporter": "python",
   "pygments_lexer": "ipython3",
   "version": "3.7.0"
  }
 },
 "nbformat": 4,
 "nbformat_minor": 2
}
