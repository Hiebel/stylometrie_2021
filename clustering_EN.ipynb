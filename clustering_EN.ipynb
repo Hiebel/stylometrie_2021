{
 "cells": [
  {
   "cell_type": "code",
   "execution_count": 11,
   "metadata": {
    "scrolled": true
   },
   "outputs": [
    {
     "name": "stdout",
     "output_type": "stream",
     "text": [
      "[0. 0. 0. 0.]\n"
     ]
    }
   ],
   "source": [
    "from fonctions import *\n",
    "\n",
    "dic_EN = lire_json('entites_nommees.json')\n",
    "\n",
    "chemins_articles = [x for x in dic_EN.keys()]\n",
    "liste_tagEN = [x[1] for x in dic_EN.values()]\n",
    "liste_titres = [x[2] for x in dic_EN.values()]\n",
    "\n",
    "liste_journaux = get_liste_journaux(chemins_articles)\n",
    "\n",
    "X, V = creer_X(liste_tagEN, 1, 1)\n",
    "\n",
    "print(X[0])"
   ]
  },
  {
   "cell_type": "code",
   "execution_count": 12,
   "metadata": {},
   "outputs": [],
   "source": []
  },
  {
   "cell_type": "code",
   "execution_count": 4,
   "metadata": {},
   "outputs": [],
   "source": [
    "from scipy.spatial.distance import cdist\n",
    "from sklearn import metrics \n",
    "\n",
    "distortions = [] \n",
    "inertias = []  \n",
    "\n",
    "for k in range(1, 10): # test en allant de 1 à 9 clusters\n",
    "    kmeanModel = creer_model_KM(k, X)\n",
    "\n",
    "    distortions.append(sum(np.min(cdist(X, kmeanModel.cluster_centers_, \n",
    "                    'euclidean'),axis=1)) / X.shape[0]) \n",
    "    inertias.append(kmeanModel.inertia_)"
   ]
  },
  {
   "cell_type": "code",
   "execution_count": 5,
   "metadata": {},
   "outputs": [
    {
     "data": {
      "image/png": "[encoded data removed]",
      "text/plain": [
       "<Figure size 432x288 with 1 Axes>"
      ]
     },
     "metadata": {
      "needs_background": "light"
     },
     "output_type": "display_data"
    }
   ],
   "source": [
    "K = range(1, 10)\n",
    "plt.plot(K, distortions, 'bx-') \n",
    "plt.xlabel('Values of K') \n",
    "plt.ylabel('Distortion') \n",
    "plt.title('The Elbow Method using Distortion') \n",
    "plt.show()"
   ]
  },
  {
   "cell_type": "code",
   "execution_count": 6,
   "metadata": {},
   "outputs": [
    {
     "data": {
      "image/png": "[encoded data removed]",
      "text/plain": [
       "<Figure size 432x288 with 1 Axes>"
      ]
     },
     "metadata": {
      "needs_background": "light"
     },
     "output_type": "display_data"
    }
   ],
   "source": [
    "plt.plot(K, inertias, 'bx-') \n",
    "plt.xlabel('Values of K') \n",
    "plt.ylabel('Inertia') \n",
    "plt.title('The Elbow Method using Inertia') \n",
    "plt.show()"
   ]
  },
  {
   "cell_type": "code",
   "execution_count": 7,
   "metadata": {},
   "outputs": [
    {
     "name": "stdout",
     "output_type": "stream",
     "text": [
      "[1 2 4 1 4 3 4 2 0 0 3 0 0 2 4 4 0 1 2 1 2 2 4 1 3 0 3 0 0 0 0 0 3 3 1 2 3\n",
      " 3 3 3 4 2 4 4 4 0 0 3 4 0 3 0 2 4 3 1 2 4 2 0 3 3 3 0 1 1 1 0 3 1 0 4 1 0\n",
      " 1 0 3 3 3 2 4 4 4 3 0 2 2 0 0 2 3 4 3 0 4 4 2 4 2 4]\n",
      "{1: 1131, 2: 900, 4: 802, 3: 1229, 0: 1623}\n"
     ]
    }
   ],
   "source": [
    "model = creer_model_KM(5, X)\n",
    "\n",
    "predictions = model.predict(X)\n",
    "\n",
    "print(predictions[:100])\n",
    "print(effectifs_clusters(model))"
   ]
  },
  {
   "cell_type": "code",
   "execution_count": 22,
   "metadata": {
    "collapsed": true
   },
   "outputs": [
    {
     "name": "stdout",
     "output_type": "stream",
     "text": [
      "Cluster 0 : 1623 articles\n",
      "Les réactions dhypersensibilité au Gardasil sont rares\n",
      "_ LOC\n",
      "Elmoudjahid\n",
      "La Grèce s'embrase après la mort d'un jeune tué par un policier\n",
      "_ LOC\n",
      "Elmoudjahid\n",
      "Réveillon - Cette période de lannée est vécue comme une trêve pour les restaurateurs\n",
      "_ LOC\n",
      "Elmoudjahid\n",
      "----------\n",
      "Cluster 1 : 1131 articles\n",
      "\"Le gouvernement israélien est suicidaire\"\n",
      "_\n",
      "nicematin\n",
      "Les 10 innovations numériques les plus marquantes en vidéo\n",
      "_\n",
      "nicematin\n",
      "L'insécurité alimentaire demeure\n",
      "_\n",
      "nicematin\n",
      "----------\n",
      "Cluster 2 : 900 articles\n",
      "SANTÉ Infections nosocomiales : \"Léo en a pour toute sa vie\"\n",
      "_ ORG PER\n",
      "francesoir\n",
      "Dépêche : HARARE (AFP) - Zimbabwe: pressions occidentales sur Mugabe, nouveau billet de 200 millions\n",
      "_ ORG LOC PER\n",
      "francesoir\n",
      "Zimbabwe: l'UE décidée à faire pression pour que Mugabe parte\n",
      "_ LOC ORG PER\n",
      "francesoir\n",
      "----------\n",
      "Cluster 3 : 1229 articles\n",
      "Détournements : Roudolph Mbangue et des ex-collaborateurs au tribunal\n",
      "_ PER PER\n",
      "levif\n",
      "Médecine : première greffe quasi-totale d'un visage aux Etats-Unis\n",
      "_ PER LOC\n",
      "levif\n",
      "Zimbabwe: fin du congrès du parti de Mugabe sur fond de crise\n",
      "_ LOC PER\n",
      "levif\n",
      "----------\n",
      "Cluster 4 : 802 articles\n",
      "Toulouse - Un bébé de 4 mois survit à une erreur médicale\n",
      "_ LOC MISC\n",
      "Europe1\n",
      "Quand la verve tarit ! Par Larbi CHENNAOUI Depuis que les Palestiniens de la bande de Gaza pâtissent sous les bombes  dernier cri  de lagresseur israélien, tout le monde compatit, gesticule, pleure et menace de se muer en une lutte de «justicier de la ville», sauf  et quelle remarquable absence....\n",
      "_ PER MISC LOC LOC\n",
      "Europe1\n",
      "Hôpitaux / Accidents médicaux mortels : Un sujet tabou\n",
      "_ PER MISC\n",
      "Europe1\n",
      "----------\n"
     ]
    }
   ],
   "source": [
    "dictionnaire = dic_complet(X, predictions, liste_tagEN, liste_titres, liste_journaux)\n",
    "\n",
    "afficher_titres_hasard(3, dictionnaire)"
   ]
  },
  {
   "cell_type": "code",
   "execution_count": 23,
   "metadata": {},
   "outputs": [
    {
     "name": "stdout",
     "output_type": "stream",
     "text": [
      "Cluster 0:\n",
      "(LOC) | (PER) | (ORG) | (MISC) | \n",
      "----------\n",
      "Cluster 1:\n",
      "(LOC) | (ORG) | (MISC) | (PER) | \n",
      "----------\n",
      "Cluster 2:\n",
      "(ORG) | (LOC) | (PER) | (MISC) | \n",
      "----------\n",
      "Cluster 3:\n",
      "(PER) | (LOC) | (MISC) | (ORG) | \n",
      "----------\n",
      "Cluster 4:\n",
      "(MISC) | (LOC) | (PER) | (ORG) | \n",
      "----------\n"
     ]
    }
   ],
   "source": [
    "dimensions_clusters(model, V)"
   ]
  },
  {
   "cell_type": "code",
   "execution_count": 24,
   "metadata": {},
   "outputs": [
    {
     "data": {
      "image/png": "[encoded data removed]",
      "text/plain": [
       "<Figure size 432x288 with 1 Axes>"
      ]
     },
     "metadata": {
      "needs_background": "light"
     },
     "output_type": "display_data"
    }
   ],
   "source": [
    "tracer_ACP(X, predictions)"
   ]
  }
 ],
 "metadata": {
  "kernelspec": {
   "display_name": "Python 3",
   "language": "python",
   "name": "python3"
  },
  "language_info": {
   "codemirror_mode": {
    "name": "ipython",
    "version": 3
   },
   "file_extension": ".py",
   "mimetype": "text/x-python",
   "name": "python",
   "nbconvert_exporter": "python",
   "pygments_lexer": "ipython3",
   "version": "3.8.5"
  }
 },
 "nbformat": 4,
 "nbformat_minor": 2
}
