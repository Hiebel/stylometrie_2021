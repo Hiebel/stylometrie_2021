{
 "cells": [
  {
   "cell_type": "code",
   "execution_count": 88,
   "metadata": {
    "scrolled": true
   },
   "outputs": [
    {
     "name": "stdout",
     "output_type": "stream",
     "text": [
      "[0. 0. 0. 0.]\n"
     ]
    }
   ],
   "source": [
    "from fonctions import *\n",
    "\n",
    "dic_EN = lire_json('entites_nommees.json')\n",
    "\n",
    "chemins_articles = [x for x in dic_EN.keys()]\n",
    "liste_tagEN = [x[1] for x in dic_EN.values()]\n",
    "liste_titres = [x[2] for x in dic_EN.values()]\n",
    "\n",
    "liste_journaux = get_liste_journaux(chemins_articles)\n",
    "\n",
    "X, V = creer_X(liste_tagEN, 1, 1)\n",
    "\n",
    "print(X[0])"
   ]
  },
  {
   "cell_type": "code",
   "execution_count": 89,
   "metadata": {},
   "outputs": [
    {
     "name": "stdout",
     "output_type": "stream",
     "text": [
      "{0: 5685}\n",
      "{1: 3850, 0: 1835}\n",
      "{0: 2715, 1: 1304, 2: 1666}\n",
      "{1: 1848, 3: 1152, 2: 1006, 0: 1679}\n",
      "{3: 1390, 2: 1050, 0: 764, 4: 868, 1: 1613}\n",
      "{1: 1390, 2: 652, 3: 764, 4: 868, 0: 1533, 5: 478}\n",
      "{1: 1390, 2: 629, 6: 290, 3: 671, 4: 715, 0: 1533, 5: 457}\n",
      "{0: 1390, 2: 629, 6: 271, 4: 481, 3: 706, 1: 1493, 5: 451, 7: 264}\n",
      "{1: 1390, 3: 629, 7: 273, 4: 517, 0: 332, 2: 1470, 6: 410, 5: 451, 8: 213}\n"
     ]
    }
   ],
   "source": [
    "from scipy.spatial.distance import cdist\n",
    "from sklearn import metrics \n",
    "\n",
    "distortions = [] \n",
    "inertias = []\n",
    "K = range(1,10)\n",
    "\n",
    "for k in K: # test en allant de 1 à 9 clusters\n",
    "    kmeanModel = creer_model_KM(k, X)\n",
    "    \n",
    "    dic_eff = effectifs_clusters(kmeanModel)\n",
    "    print(dic_eff)\n",
    "    \n",
    "    distortions.append(sum(np.min(cdist(X, kmeanModel.cluster_centers_, \n",
    "                    'euclidean'),axis=1)) / X.shape[0]) \n",
    "    inertias.append(kmeanModel.inertia_)"
   ]
  },
  {
   "cell_type": "code",
   "execution_count": 90,
   "metadata": {},
   "outputs": [
    {
     "data": {
      "image/png": "[encoded data removed]",
      "text/plain": [
       "<Figure size 432x288 with 1 Axes>"
      ]
     },
     "metadata": {
      "needs_background": "light"
     },
     "output_type": "display_data"
    }
   ],
   "source": [
    "plt.plot(K, distortions, 'bx-') \n",
    "plt.xlabel('Values of K') \n",
    "plt.ylabel('Distortion') \n",
    "plt.title('The Elbow Method using Distortion') \n",
    "plt.show()"
   ]
  },
  {
   "cell_type": "code",
   "execution_count": 91,
   "metadata": {},
   "outputs": [
    {
     "data": {
      "image/png": "[encoded data removed]",
      "text/plain": [
       "<Figure size 432x288 with 1 Axes>"
      ]
     },
     "metadata": {
      "needs_background": "light"
     },
     "output_type": "display_data"
    }
   ],
   "source": [
    "plt.plot(K, inertias, 'bx-') \n",
    "plt.xlabel('Values of K') \n",
    "plt.ylabel('Inertia') \n",
    "plt.title('The Elbow Method using Inertia') \n",
    "plt.show()"
   ]
  },
  {
   "cell_type": "code",
   "execution_count": 7,
   "metadata": {},
   "outputs": [
    {
     "name": "stdout",
     "output_type": "stream",
     "text": [
      "[1 2 4 1 4 3 4 2 0 0 3 0 0 2 4 4 0 1 2 1 2 2 4 1 3 0 3 0 0 0 0 0 3 3 1 2 3\n",
      " 3 3 3 4 2 4 4 4 0 0 3 4 0 3 0 2 4 3 1 2 4 2 0 3 3 3 0 1 1 1 0 3 1 0 4 1 0\n",
      " 1 0 3 3 3 2 4 4 4 3 0 2 2 0 0 2 3 4 3 0 4 4 2 4 2 4]\n",
      "{1: 1131, 2: 900, 4: 802, 3: 1229, 0: 1623}\n"
     ]
    }
   ],
   "source": [
    "model = creer_model_KM(5, X)\n",
    "\n",
    "predictions = model.predict(X)\n",
    "\n",
    "print(predictions[:100])\n",
    "print(effectifs_clusters(model))"
   ]
  },
  {
   "cell_type": "code",
   "execution_count": 22,
   "metadata": {},
   "outputs": [
    {
     "name": "stdout",
     "output_type": "stream",
     "text": [
      "Cluster 0 : 1623 articles\n",
      "Les réactions dhypersensibilité au Gardasil sont rares\n",
      "_ LOC\n",
      "Elmoudjahid\n",
      "La Grèce s'embrase après la mort d'un jeune tué par un policier\n",
      "_ LOC\n",
      "Elmoudjahid\n",
      "Réveillon - Cette période de lannée est vécue comme une trêve pour les restaurateurs\n",
      "_ LOC\n",
      "Elmoudjahid\n",
      "----------\n",
      "Cluster 1 : 1131 articles\n",
      "\"Le gouvernement israélien est suicidaire\"\n",
      "_\n",
      "nicematin\n",
      "Les 10 innovations numériques les plus marquantes en vidéo\n",
      "_\n",
      "nicematin\n",
      "L'insécurité alimentaire demeure\n",
      "_\n",
      "nicematin\n",
      "----------\n",
      "Cluster 2 : 900 articles\n",
      "SANTÉ Infections nosocomiales : \"Léo en a pour toute sa vie\"\n",
      "_ ORG PER\n",
      "francesoir\n",
      "Dépêche : HARARE (AFP) - Zimbabwe: pressions occidentales sur Mugabe, nouveau billet de 200 millions\n",
      "_ ORG LOC PER\n",
      "francesoir\n",
      "Zimbabwe: l'UE décidée à faire pression pour que Mugabe parte\n",
      "_ LOC ORG PER\n",
      "francesoir\n",
      "----------\n",
      "Cluster 3 : 1229 articles\n",
      "Détournements : Roudolph Mbangue et des ex-collaborateurs au tribunal\n",
      "_ PER PER\n",
      "levif\n",
      "Médecine : première greffe quasi-totale d'un visage aux Etats-Unis\n",
      "_ PER LOC\n",
      "levif\n",
      "Zimbabwe: fin du congrès du parti de Mugabe sur fond de crise\n",
      "_ LOC PER\n",
      "levif\n",
      "----------\n",
      "Cluster 4 : 802 articles\n",
      "Toulouse - Un bébé de 4 mois survit à une erreur médicale\n",
      "_ LOC MISC\n",
      "Europe1\n",
      "Quand la verve tarit ! Par Larbi CHENNAOUI Depuis que les Palestiniens de la bande de Gaza pâtissent sous les bombes  dernier cri  de lagresseur israélien, tout le monde compatit, gesticule, pleure et menace de se muer en une lutte de «justicier de la ville», sauf  et quelle remarquable absence....\n",
      "_ PER MISC LOC LOC\n",
      "Europe1\n",
      "Hôpitaux / Accidents médicaux mortels : Un sujet tabou\n",
      "_ PER MISC\n",
      "Europe1\n",
      "----------\n"
     ]
    }
   ],
   "source": [
    "dictionnaire = dic_complet(X, predictions, liste_tagEN, liste_titres, liste_journaux)\n",
    "\n",
    "afficher_titres_hasard(3, dictionnaire)"
   ]
  },
  {
   "cell_type": "code",
   "execution_count": 23,
   "metadata": {},
   "outputs": [
    {
     "name": "stdout",
     "output_type": "stream",
     "text": [
      "Cluster 0:\n",
      "(LOC) | (PER) | (ORG) | (MISC) | \n",
      "----------\n",
      "Cluster 1:\n",
      "(LOC) | (ORG) | (MISC) | (PER) | \n",
      "----------\n",
      "Cluster 2:\n",
      "(ORG) | (LOC) | (PER) | (MISC) | \n",
      "----------\n",
      "Cluster 3:\n",
      "(PER) | (LOC) | (MISC) | (ORG) | \n",
      "----------\n",
      "Cluster 4:\n",
      "(MISC) | (LOC) | (PER) | (ORG) | \n",
      "----------\n"
     ]
    }
   ],
   "source": [
    "dimensions_clusters(model, V)"
   ]
  },
  {
   "cell_type": "code",
   "execution_count": 24,
   "metadata": {},
   "outputs": [
    {
     "data": {
      "image/png": "[encoded data removed]",
      "text/plain": [
       "<Figure size 432x288 with 1 Axes>"
      ]
     },
     "metadata": {
      "needs_background": "light"
     },
     "output_type": "display_data"
    }
   ],
   "source": [
    "tracer_ACP(X, predictions)"
   ]
  }
 ],
 "metadata": {
  "kernelspec": {
   "display_name": "Python 3",
   "language": "python",
   "name": "python3"
  },
  "language_info": {
   "codemirror_mode": {
    "name": "ipython",
    "version": 3
   },
   "file_extension": ".py",
   "mimetype": "text/x-python",
   "name": "python",
   "nbconvert_exporter": "python",
   "pygments_lexer": "ipython3",
   "version": "3.8.5"
  }
 },
 "nbformat": 4,
 "nbformat_minor": 2
}
