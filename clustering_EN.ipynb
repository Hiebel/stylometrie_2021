{
 "cells": [
  {
   "cell_type": "code",
   "execution_count": 14,
   "metadata": {
    "scrolled": true
   },
   "outputs": [],
   "source": [
    "from fonctions import *\n",
    "\n",
    "dic_EN = lire_json('entites_nommees.json')\n",
    "\n",
    "chemins_articles = [x for x in dic_EN.keys()]\n",
    "liste_tagEN = [x[1] for x in dic_EN.values()]\n",
    "liste_titres = [x[2] for x in dic_EN.values()]\n",
    "\n",
    "liste_journaux = get_liste_journaux(chemins_articles)\n",
    "\n",
    "X, V = creer_X(liste_tagEN, 1, 1)"
   ]
  },
  {
   "cell_type": "code",
   "execution_count": 15,
   "metadata": {},
   "outputs": [
    {
     "name": "stdout",
     "output_type": "stream",
     "text": [
      "{1: 1390, 0: 1050, 4: 764, 3: 868, 2: 1613}\n"
     ]
    }
   ],
   "source": [
    "model = creer_model_KM(5, X)\n",
    "\n",
    "predictions = model.predict(X)\n",
    "\n",
    "print(effectifs_clusters(model))"
   ]
  },
  {
   "cell_type": "code",
   "execution_count": 19,
   "metadata": {},
   "outputs": [
    {
     "name": "stdout",
     "output_type": "stream",
     "text": [
      "Cluster 0 : 1050 articles\n",
      "La paix est possible au Congo, par Nestor Bidadanure\n",
      "LOC PER\n",
      "burundi_news\n",
      "Zimbabwe: nouvelle attaque des Etats-Unis contre Mugabe et son régime\n",
      "LOC MISC PER PER\n",
      "burundi_news\n",
      "Josacine empoisonnée: le parquet opposé à la demande de révision de Deperrois\n",
      "PER LOC\n",
      "burundi_news\n",
      "----------\n",
      "Cluster 1 : 1390 articles\n",
      "Un enfant meurt dans un hopital parisien après l'administration d'un médicament\n",
      "\n",
      "camerounlink\n",
      "Le porc et le bœuf irlandais surveillés\n",
      "\n",
      "camerounlink\n",
      "Santé : Appel à une stratégie spécifique en matière de gestion des situations d'urgence ...\n",
      "\n",
      "camerounlink\n",
      "----------\n",
      "Cluster 2 : 1613 articles\n",
      "Haute-Savoie: une fille de 12 ans décède de la rougeole, cas rarissime en Europe\n",
      "LOC LOC LOC\n",
      "nicematin\n",
      "Méreau : Lucille, une étudiante \" globe-trotteuse \"\n",
      "LOC LOC\n",
      "nicematin\n",
      "Israël mobilise ses réservistes tandis que Gaza compte 280 morts\n",
      "LOC LOC\n",
      "nicematin\n",
      "----------\n",
      "Cluster 3 : 868 articles\n",
      "Epidémie de choléra au Zimbabwe : la communauté internationale se mobilise\n",
      "MISC LOC\n",
      "radiofrance\n",
      "Ça fait mal\n",
      "MISC\n",
      "radiofrance\n",
      "Dans Newsweek : \"Tarullo, l'anti-Greenspan\"\n",
      "MISC MISC PER\n",
      "radiofrance\n",
      "----------\n",
      "Cluster 4 : 764 articles\n",
      "Excision sur une fillette : la PJ enquête à Nevers\n",
      "ORG LOC\n",
      "figaro\n",
      "La détermination de Sarkozy «renforcée» AL-TIRI (AFP)  Le Président français Nicolas Sarkozy a estimé hier soir que l'attaque israélienne contre une école de Gaza qui a provoqué la mort d'une quarantaine de personnes qui s'y étaient réfugiées ne faisait que \"renforcer\" sa \"détermination à ce que tout ceci s'arrête\" .\n",
      "PER ORG MISC ORG PER LOC\n",
      "figaro\n",
      "Farc: le président colombien Uribe interdit les médiateurs autres que le CICR\n",
      "ORG ORG ORG\n",
      "figaro\n",
      "----------\n"
     ]
    }
   ],
   "source": [
    "dictionnaire = dic_complet(X, predictions, liste_tagEN, liste_titres, liste_journaux)\n",
    "\n",
    "afficher_titres_hasard(3, dictionnaire)"
   ]
  },
  {
   "cell_type": "code",
   "execution_count": 28,
   "metadata": {},
   "outputs": [
    {
     "name": "stdout",
     "output_type": "stream",
     "text": [
      "Cluster 0:\n",
      "(PER) | (LOC) | \n",
      "----------\n",
      "Cluster 1:\n",
      "(MISC) | (ORG) | \n",
      "----------\n",
      "Cluster 2:\n",
      "(LOC) | (PER) | \n",
      "----------\n",
      "Cluster 3:\n",
      "(MISC) | (LOC) | \n",
      "----------\n",
      "Cluster 4:\n",
      "(ORG) | (LOC) | \n",
      "----------\n"
     ]
    }
   ],
   "source": [
    "dimensions_clusters(model, V, 2)"
   ]
  },
  {
   "cell_type": "code",
   "execution_count": 7,
   "metadata": {},
   "outputs": [
    {
     "data": {
      "image/png": "[encoded data removed]",
      "text/plain": [
       "<Figure size 432x288 with 1 Axes>"
      ]
     },
     "metadata": {
      "needs_background": "light"
     },
     "output_type": "display_data"
    }
   ],
   "source": [
    "tracer_ACP(X, predictions)"
   ]
  },
  {
   "cell_type": "code",
   "execution_count": null,
   "metadata": {},
   "outputs": [],
   "source": []
  }
 ],
 "metadata": {
  "kernelspec": {
   "display_name": "Python 3",
   "language": "python",
   "name": "python3"
  },
  "language_info": {
   "codemirror_mode": {
    "name": "ipython",
    "version": 3
   },
   "file_extension": ".py",
   "mimetype": "text/x-python",
   "name": "python",
   "nbconvert_exporter": "python",
   "pygments_lexer": "ipython3",
   "version": "3.8.5"
  }
 },
 "nbformat": 4,
 "nbformat_minor": 2
}
