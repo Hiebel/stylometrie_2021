{
 "cells": [
  {
   "cell_type": "code",
   "execution_count": 2,
   "metadata": {},
   "outputs": [],
   "source": [
    "import json, statistics\n",
    "\n",
    "from fonctions import *"
   ]
  },
  {
   "cell_type": "code",
   "execution_count": 3,
   "metadata": {},
   "outputs": [
    {
     "name": "stdout",
     "output_type": "stream",
     "text": [
      "Nombre total d'articles :  5685\n",
      "Moyenne taille des titres :  69.41354441512753\n",
      "Ecart type taille des titres :  50.275229745467584\n"
     ]
    }
   ],
   "source": [
    "articles = lire_json('articles.json')\n",
    "\n",
    "nombre_articles = len(articles)\n",
    "print(\"Nombre total d'articles : \", nombre_articles)\n",
    "\n",
    "taille_titres = []\n",
    "for t in articles.values():\n",
    "    taille = len(t)\n",
    "    taille_titres.append(taille)    \n",
    "\n",
    "moyenne_taille = statistics.mean(taille_titres)\n",
    "print(\"Moyenne taille des titres : \", moyenne_taille)\n",
    "\n",
    "ecart_type_taille = statistics.pstdev(taille_titres)\n",
    "print(\"Ecart type taille des titres : \", ecart_type_taille)"
   ]
  },
  {
   "cell_type": "code",
   "execution_count": 11,
   "metadata": {},
   "outputs": [
    {
     "name": "stdout",
     "output_type": "stream",
     "text": [
      "38 tags trouvés : \n",
      "['RP', 'JJS', 'FW', 'NN', '.', '(', ')', ':', 'PRP', 'NNS', 'CC', '$', 'CD', 'RB', 'IN', 'POS', 'VB', 'VBP', 'PRP$', 'EX', 'VBG', 'MD', 'VBZ', 'RBS', 'SYM', 'DT', 'RBR', 'WP', 'VBD', \"''\", 'JJR', 'NNP', '``', 'NNPS', 'VBN', 'JJ', ',', 'TO']\n"
     ]
    }
   ],
   "source": [
    "tags = lire_json('articlesTags.json')\n",
    "\n",
    "liste_tags = []\n",
    "for tag in tags.values():\n",
    "    for t in tag[1]:\n",
    "        liste_tags.append(t[1])\n",
    "        \n",
    "nombre_total_tags = len(liste_tags)\n",
    "#print(nombre_total_tags)\n",
    "\n",
    "set_tags = list(set(liste_tags))\n",
    "print(\"%s tags trouvés : \" % len(set_tags))\n",
    "print(set_tags)"
   ]
  },
  {
   "cell_type": "code",
   "execution_count": 6,
   "metadata": {},
   "outputs": [],
   "source": [
    "proportion_tags = {}\n",
    "\n",
    "for tag in set_tags:\n",
    "    comptage_tag = liste_tags.count(tag)\n",
    "    proportion = (comptage_tag/nombre_total_tags)*100\n",
    "    proportion_tags.setdefault(tag, proportion)\n",
    "    \n",
    "#print(proportion_tags)"
   ]
  },
  {
   "cell_type": "code",
   "execution_count": 7,
   "metadata": {},
   "outputs": [
    {
     "name": "stdout",
     "output_type": "stream",
     "text": [
      "{'RP': 0.009952653804046465, 'JJS': 0.39099711373039686, 'FW': 9.025635192583852, 'NN': 29.892084796610412, 'ponctuation': 10.74175706993872, 'PRP': 0.02843615372584704, 'NNS': 8.040322465983252, 'CC': 0.6739368433025749, '$': 0.032701576784724094, 'CD': 1.8938478381414132, 'RB': 0.31706311404319454, 'IN': 2.8905350262323517, 'POS': 0.008530846117754112, 'VB': 0.331281190906118, 'VBP': 2.988639756586524, 'PRP$': 0.004265423058877056, 'EX': 0.0014218076862923521, 'VBG': 0.00710903843146176, 'MD': 0.08957388423641818, 'VBZ': 2.7440888345442396, 'RBS': 0.0028436153725847043, 'SYM': 0.032701576784724094, 'DT': 0.6000028436153726, 'RBR': 0.009952653804046465, 'WP': 0.004265423058877056, 'VBD': 0.5417087284773862, 'JJR': 0.11943184564855756, 'NNP': 20.519528528571225, 'NNPS': 0.03127976909843175, 'VBN': 0.00710903843146176, 'JJ': 8.00904269688482, 'TO': 0.009952653804046465}\n"
     ]
    }
   ],
   "source": [
    "tags_ponctuation = [\"\\''\", '(', ')', ',', '.', ':', '``']\n",
    "\n",
    "prop = {}\n",
    "pourcentage_ponctuation = 0\n",
    "for k, v in proportion_tags.items():\n",
    "    if k in tags_ponctuation:\n",
    "        pourcentage_ponctuation += v\n",
    "        prop['ponctuation'] = pourcentage_ponctuation\n",
    "    else:\n",
    "        prop[k] = v\n",
    "\n",
    "print(prop)"
   ]
  },
  {
   "cell_type": "code",
   "execution_count": 8,
   "metadata": {},
   "outputs": [],
   "source": [
    "import matplotlib.pyplot as plt"
   ]
  },
  {
   "cell_type": "code",
   "execution_count": 9,
   "metadata": {},
   "outputs": [
    {
     "data": {
      "text/plain": [
       "'\"\"\\ndata = list(prop.values())\\ntags = list(prop.keys())\\n\\nplt.figure(figsize=(9,9))\\nplt.pie(data, labels=tags, autopct=\\'%.2f\\')\\nplt.axis(\\'equal\\')\\nplt.show()\\n'"
      ]
     },
     "execution_count": 9,
     "metadata": {},
     "output_type": "execute_result"
    }
   ],
   "source": [
    "\"\"\"\"\"\n",
    "data = list(prop.values())\n",
    "tags = list(prop.keys())\n",
    "\n",
    "plt.figure(figsize=(9,9))\n",
    "plt.pie(data, labels=tags, autopct='%.2f')\n",
    "plt.axis('equal')\n",
    "plt.show()\n",
    "\"\"\"\"\""
   ]
  },
  {
   "cell_type": "code",
   "execution_count": null,
   "metadata": {},
   "outputs": [],
   "source": []
  }
 ],
 "metadata": {
  "kernelspec": {
   "display_name": "Python 3",
   "language": "python",
   "name": "python3"
  },
  "language_info": {
   "codemirror_mode": {
    "name": "ipython",
    "version": 3
   },
   "file_extension": ".py",
   "mimetype": "text/x-python",
   "name": "python",
   "nbconvert_exporter": "python",
   "pygments_lexer": "ipython3",
   "version": "3.8.5"
  }
 },
 "nbformat": 4,
 "nbformat_minor": 2
}
