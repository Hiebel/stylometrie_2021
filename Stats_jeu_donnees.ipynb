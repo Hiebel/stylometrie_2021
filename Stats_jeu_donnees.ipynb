{
 "cells": [
  {
   "cell_type": "code",
   "execution_count": 9,
   "metadata": {},
   "outputs": [],
   "source": [
    "import json, statistics"
   ]
  },
  {
   "cell_type": "code",
   "execution_count": 3,
   "metadata": {},
   "outputs": [],
   "source": [
    "def ouvrir_json (chemin):\n",
    "    f = open(chemin , encoding=\"utf−8\")\n",
    "    toto = json.load(f)\n",
    "    f.close ()\n",
    "    return toto"
   ]
  },
  {
   "cell_type": "code",
   "execution_count": 62,
   "metadata": {},
   "outputs": [
    {
     "name": "stdout",
     "output_type": "stream",
     "text": [
      "Nombre total d'articles :  5685\n",
      "Moyenne taille des titres :  69.41354441512753\n",
      "Ecart type taille des titres :  50.275229745467584\n"
     ]
    }
   ],
   "source": [
    "articles = ouvrir_json('articles.json')\n",
    "\n",
    "nombre_articles = len(articles)\n",
    "print(\"Nombre total d'articles : \", nombre_articles)\n",
    "\n",
    "taille_titres = []\n",
    "for t in articles.values():\n",
    "    taille = len(t)\n",
    "    taille_titres.append(taille)    \n",
    "\n",
    "moyenne_taille = statistics.mean(taille_titres)\n",
    "print(\"Moyenne taille des titres : \", moyenne_taille)\n",
    "\n",
    "ecart_type_taille = statistics.pstdev(taille_titres)\n",
    "print(\"Ecart type taille des titres : \", ecart_type_taille)"
   ]
  },
  {
   "cell_type": "code",
   "execution_count": 38,
   "metadata": {},
   "outputs": [
    {
     "name": "stdout",
     "output_type": "stream",
     "text": [
      "[\"''\", 'JJ', 'MD', 'JJR', 'VBZ', 'SYM', 'CC', 'NNPS', '(', 'CD', 'RB', 'DT', 'PRP', 'VB', 'RP', 'VBP', ',', 'VBG', 'NNP', 'TO', 'NNS', '.', 'RBR', ':', 'POS', 'PRP$', 'JJS', ')', '$', 'WP', 'VBN', 'NN', 'VBD', 'RBS', '``', 'FW', 'EX', 'IN']\n"
     ]
    }
   ],
   "source": [
    "tags = ouvrir_json('articlesTags.json')\n",
    "\n",
    "liste_tags = []\n",
    "for tag in tags.values():\n",
    "    for t in tag[1]:\n",
    "        liste_tags.append(t[1])\n",
    "        \n",
    "nombre_total_tags = len(liste_tags)\n",
    "#print(nombre_total_tags)\n",
    "\n",
    "set_tags = list(set(liste_tags))\n",
    "print(set_tags)"
   ]
  },
  {
   "cell_type": "code",
   "execution_count": 49,
   "metadata": {},
   "outputs": [],
   "source": [
    "proportion_tags = {}\n",
    "\n",
    "for tag in set_tags:\n",
    "    comptage_tag = liste_tags.count(tag)\n",
    "    proportion = (comptage_tag/nombre_total_tags)*100\n",
    "    proportion_tags.setdefault(tag, proportion)\n",
    "    \n",
    "#print(proportion_tags)"
   ]
  },
  {
   "cell_type": "code",
   "execution_count": 60,
   "metadata": {},
   "outputs": [
    {
     "name": "stdout",
     "output_type": "stream",
     "text": [
      "{'ponctuation': 10.777490554782265, 'JJ': 7.992216572451212, 'MD': 0.08664034315257223, 'JJR': 0.11788768002727039, 'VBZ': 2.732721643041786, 'SYM': 0.032667670369002644, 'CC': 0.6917024117262733, 'NNPS': 0.03124733687469818, 'CD': 1.8918842144135442, 'RB': 0.3167343692298952, 'DT': 0.6206857370110502, 'PRP': 0.029827003380393718, 'VB': 0.3280970371843309, 'RP': 0.009942334460131238, 'VBP': 2.984120671533676, 'VBG': 0.007101667471522313, 'NNP': 20.495412322813397, 'TO': 0.009942334460131238, 'NNS': 8.031985910291736, 'RBR': 0.009942334460131238, 'POS': 0.014203334943044627, 'PRP$': 0.004261000482913388, 'JJS': 0.39059171093372724, '$': 0.032667670369002644, 'WP': 0.004261000482913388, 'VBN': 0.007101667471522313, 'NN': 29.892338721131722, 'VBD': 0.5383063943413914, 'RBS': 0.002840666988608925, 'FW': 9.024799022810557, 'EX': 0.0014203334943044626, 'IN': 2.888958327415277}\n"
     ]
    }
   ],
   "source": [
    "tags_ponctuation = [\"\\''\", '(', ')', ',', '.', ':', '``']\n",
    "\n",
    "prop = {}\n",
    "pourcentage_ponctuation = 0\n",
    "for k, v in proportion_tags.items():\n",
    "    if k in tags_ponctuation:\n",
    "        pourcentage_ponctuation += v\n",
    "        prop['ponctuation'] = pourcentage_ponctuation\n",
    "    else:\n",
    "        prop[k] = v\n",
    "\n",
    "print(prop)"
   ]
  },
  {
   "cell_type": "code",
   "execution_count": 50,
   "metadata": {},
   "outputs": [],
   "source": [
    "import matplotlib.pyplot as plt"
   ]
  },
  {
   "cell_type": "code",
   "execution_count": 61,
   "metadata": {},
   "outputs": [
    {
     "data": {
      "text/plain": [
       "'\"\"\\ndata = list(prop.values())\\ntags = list(prop.keys())\\n\\nplt.figure(figsize=(9,9))\\nplt.pie(data, labels=tags, autopct=\\'%.2f\\')\\nplt.axis(\\'equal\\')\\nplt.show()\\n'"
      ]
     },
     "execution_count": 61,
     "metadata": {},
     "output_type": "execute_result"
    }
   ],
   "source": [
    "\"\"\"\"\"\n",
    "data = list(prop.values())\n",
    "tags = list(prop.keys())\n",
    "\n",
    "plt.figure(figsize=(9,9))\n",
    "plt.pie(data, labels=tags, autopct='%.2f')\n",
    "plt.axis('equal')\n",
    "plt.show()\n",
    "\"\"\"\"\""
   ]
  }
 ],
 "metadata": {
  "kernelspec": {
   "display_name": "Python 3",
   "language": "python",
   "name": "python3"
  },
  "language_info": {
   "codemirror_mode": {
    "name": "ipython",
    "version": 3
   },
   "file_extension": ".py",
   "mimetype": "text/x-python",
   "name": "python",
   "nbconvert_exporter": "python",
   "pygments_lexer": "ipython3",
   "version": "3.7.3"
  }
 },
 "nbformat": 4,
 "nbformat_minor": 2
}
