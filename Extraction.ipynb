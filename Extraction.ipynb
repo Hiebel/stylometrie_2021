{
 "cells": [
  {
   "cell_type": "code",
   "execution_count": 107,
   "metadata": {},
   "outputs": [],
   "source": [
    "import json\n",
    "import glob\n",
    "\n",
    "def lire_json(chemin):\n",
    "    with open(chemin, \"r\", encoding=\"utf-8\") as fin:\n",
    "        dic = json.load(fin)\n",
    "    return dic\n",
    "\n",
    "def lire_lignes(chemin):\n",
    "    with open(chemin, \"rb\") as fin:\n",
    "        lignes = fin.readlines()\n",
    "    return lignes\n",
    "\n",
    "def lire_fichier(chemin):\n",
    "    with open(chemin, \"r\", encoding=\"utf-8\") as fin:\n",
    "        lignes = fin.read()\n",
    "    return lignes\n",
    "\n",
    "def ecrire_json(chemin, dic):\n",
    "    with open(chemin, \"w\", encoding=\"utf-8\") as fout:\n",
    "        fout.write(json.dumps(dic, ensure_ascii=False, indent=2))"
   ]
  },
  {
   "cell_type": "code",
   "execution_count": 121,
   "metadata": {},
   "outputs": [],
   "source": [
    "dic = {}\n",
    "\n",
    "for fic in glob.glob(\"french-docs/2009/*/*/*\"):\n",
    "    contenu = lire_lignes(fic)\n",
    "    titre = contenu[2].decode(\"latin-1\")\n",
    "    titre = titre[:-1]\n",
    "    dic[fic] = titre"
   ]
  },
  {
   "cell_type": "code",
   "execution_count": 105,
   "metadata": {},
   "outputs": [],
   "source": [
    "from bs4 import BeautifulSoup"
   ]
  },
  {
   "cell_type": "code",
   "execution_count": 125,
   "metadata": {},
   "outputs": [
    {
     "name": "stdout",
     "output_type": "stream",
     "text": [
      "2733\n"
     ]
    }
   ],
   "source": [
    "for path in glob.glob('french-docs/2008/*/*/*/*'):\n",
    "    f = lire_fichier(path)\n",
    "    soup  = BeautifulSoup(f)\n",
    "    titre = soup.p.text\n",
    "    dic[path] = titre\n",
    "    \n",
    "print(len(dic))"
   ]
  },
  {
   "cell_type": "code",
   "execution_count": 124,
   "metadata": {},
   "outputs": [],
   "source": [
    "ecrire_json(\"articles.json\", dico)"
   ]
  },
  {
   "cell_type": "code",
   "execution_count": null,
   "metadata": {},
   "outputs": [],
   "source": []
  }
 ],
 "metadata": {
  "kernelspec": {
   "display_name": "Python 3",
   "language": "python",
   "name": "python3"
  },
  "language_info": {
   "codemirror_mode": {
    "name": "ipython",
    "version": 3
   },
   "file_extension": ".py",
   "mimetype": "text/x-python",
   "name": "python",
   "nbconvert_exporter": "python",
   "pygments_lexer": "ipython3",
   "version": "3.7.0"
  }
 },
 "nbformat": 4,
 "nbformat_minor": 2
}
