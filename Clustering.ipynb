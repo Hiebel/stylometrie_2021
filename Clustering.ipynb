{
 "cells": [
  {
   "cell_type": "code",
   "execution_count": 1,
   "metadata": {},
   "outputs": [],
   "source": [
    "import json\n",
    "import glob\n",
    "\n",
    "def lire_json(chemin):\n",
    "    with open(chemin, \"r\", encoding=\"utf-8\") as fin:\n",
    "        dic = json.load(fin)\n",
    "    return dic\n",
    "\n",
    "def ecrire_json(chemin, dic):\n",
    "    with open(chemin, \"w\", encoding=\"utf-8\") as fout:\n",
    "        fout.write(json.dumps(dic, ensure_ascii=False, indent=2))"
   ]
  },
  {
   "cell_type": "code",
   "execution_count": 2,
   "metadata": {},
   "outputs": [
    {
     "name": "stdout",
     "output_type": "stream",
     "text": [
      "5685\n"
     ]
    }
   ],
   "source": [
    "with open(\"articlesTags.json\", \"r\", encoding=\"utf-8\") as fin:\n",
    "    dic = json.load(fin)\n",
    "\n",
    "print(len(dic))"
   ]
  },
  {
   "cell_type": "code",
   "execution_count": 37,
   "metadata": {},
   "outputs": [
    {
     "name": "stdout",
     "output_type": "stream",
     "text": [
      "5685\n",
      "french-docs/2009\\01\\01\\20090101_Elmoudjahid_69e98e7fc33abc878f8cfb6bd32fe498 [['Identification', 'de', 'trois', 'gènes', 'expliquant', 'la', 'virulence', 'de', 'la', 'grippe', 'espagnole', 'de', '1918'], ['NNP', 'FW', 'FW', 'NNS', 'VBP', 'JJ', 'NN', 'IN', 'FW', 'JJ', 'FW', 'IN', 'CD'], 'Identification de trois gènes expliquant la virulence de la grippe espagnole de 1918']\n"
     ]
    }
   ],
   "source": [
    "new_dic = {}\n",
    "\n",
    "for k, v in dic.items():\n",
    "    mots = []\n",
    "    tags = []\n",
    "    for mot, tag in v[1]:\n",
    "        mots.append(mot)\n",
    "        tags.append(tag)\n",
    "    new_dic[k] = []\n",
    "    new_dic[k].append(mots)\n",
    "    new_dic[k].append(tags)\n",
    "    new_dic[k].append(v[0])\n",
    "    \n",
    "print(len(new_dic))\n",
    "\n",
    "for k, v in new_dic.items():\n",
    "    print(k, v)\n",
    "    break"
   ]
  },
  {
   "cell_type": "code",
   "execution_count": 38,
   "metadata": {},
   "outputs": [
    {
     "name": "stdout",
     "output_type": "stream",
     "text": [
      "french-docs/2009\\01\\01\\20090101_Elmoudjahid_69e98e7fc33abc878f8cfb6bd32fe498\n",
      "[['NNP', 'FW', 'FW', 'NNS', 'VBP', 'JJ', 'NN', 'IN', 'FW', 'JJ', 'FW', 'IN', 'CD'], ['NNP', 'NNS', 'VBP', 'NN', ':', 'IN', 'NNS', 'VBP', 'JJR', 'NN', 'NN', 'NN', 'JJ', 'NN'], ['NNP', 'FW', 'FW', '.', 'NNS', 'NNS', ':']]\n",
      "['Identification de trois gènes expliquant la virulence de la grippe espagnole de 1918', 'Les chantiers du Président : On ne peut cacher le soleil avec un tamis', 'Gueule de bois ? Quelques remèdes...']\n"
     ]
    }
   ],
   "source": [
    "articles = [x for x in new_dic.keys()]\n",
    "print(articles[0])\n",
    "\n",
    "liste_tags = [x[1] for x in new_dic.values()]\n",
    "\n",
    "liste_titres = [x[2] for x in new_dic.values()]\n",
    "\n",
    "print(liste_tags[:3])\n",
    "print(liste_titres[:3])"
   ]
  },
  {
   "cell_type": "code",
   "execution_count": 46,
   "metadata": {},
   "outputs": [
    {
     "name": "stdout",
     "output_type": "stream",
     "text": [
      "['NNP', 'FW', 'FW', 'NNS', 'VBP', 'JJ', 'NN', 'IN', 'FW', 'JJ', 'FW', 'IN', 'CD']\n",
      "['NNP FW FW NNS VBP JJ NN IN FW JJ FW IN CD', 'NNP NNS VBP NN : IN NNS VBP JJR NN NN NN JJ NN', 'NNP FW FW . NNS NNS :']\n",
      "[[0 1 0 0 4 2 2 0 0 0 1 1 0 1 0 0 0 0 0 0 0 0 0 0 0 0 1 0 0]\n",
      " [0 0 0 0 0 1 1 1 0 0 5 1 0 2 0 0 0 0 0 0 0 0 0 0 0 0 2 0 0]\n",
      " [0 0 0 0 2 0 0 0 0 0 0 1 0 2 0 0 0 0 0 0 0 0 0 0 0 0 0 0 0]]\n",
      "5685\n",
      "[0 1 0 0 4 2 2 0 0 0 1 1 0 1 0 0 0 0 0 0 0 0 0 0 0 0 1 0 0]\n"
     ]
    }
   ],
   "source": [
    "from sklearn.cluster import KMeans\n",
    "from sklearn.feature_extraction.text import CountVectorizer\n",
    "\n",
    "nb_clusters = 7\n",
    "\n",
    "model = KMeans(n_clusters=nb_clusters)\n",
    "\n",
    "V = CountVectorizer()\n",
    "\n",
    "liste_t = [\" \".join(x) for x in liste_tags]\n",
    "\n",
    "print(liste_tags[0])\n",
    "print(liste_t[:3])\n",
    "\n",
    "X = V.fit_transform(liste_t).toarray()\n",
    "\n",
    "print(X[:3])\n",
    "print(len(X))\n",
    "print(X[0])"
   ]
  },
  {
   "cell_type": "code",
   "execution_count": 106,
   "metadata": {
    "scrolled": true
   },
   "outputs": [
    {
     "name": "stdout",
     "output_type": "stream",
     "text": [
      "[5 1 4 4 2 2 4 2 1 1 3 5 4 2 4 1 1 4 2 4 5 5 4 4 5 4 5 1 1 1 1 0 0 5 1 5 0\n",
      " 1 2 2 0 0 2 2 1 4 2 4 5 4 4 1 4 4 1 5 5 0 1 5 4 5 1 1 4 4 4 4 2 4 5 2 4 1\n",
      " 4 5 0 2 1 5 5 5 2 2 5 1 4 4 4 2 0 4 4 5 2 2 2 4 2 2]\n"
     ]
    }
   ],
   "source": [
    "model.fit(X)\n",
    "\n",
    "all_predictions = model.predict(X)\n",
    "\n",
    "print(all_predictions[:100])"
   ]
  },
  {
   "cell_type": "code",
   "execution_count": 102,
   "metadata": {},
   "outputs": [],
   "source": [
    "dic_res = {}\n",
    "\n",
    "for i in range(len(X)):\n",
    "    #print(X[i])\n",
    "    num_cluster = all_predictions[i]\n",
    "    titre = liste_titres[i]\n",
    "    tags = liste_t[i]\n",
    "    #vecteur = X[i]\n",
    "    dic_res.setdefault(num_cluster,  [])\n",
    "    dic_res[num_cluster].append((titre, tags, vecteur))"
   ]
  },
  {
   "cell_type": "code",
   "execution_count": 103,
   "metadata": {
    "collapsed": true
   },
   "outputs": [
    {
     "name": "stdout",
     "output_type": "stream",
     "text": [
      "Cluster 0 : 1619 articles\n",
      "('Les algériens entourés de 3200 décharges',)\n",
      "('Mauvaise nuit pour le Père Noël!',)\n",
      "(\"Elles s'engagent à protéger les tout-petits : 120 conseillères familiales prêtent serment\",)\n",
      "('Froid. Fièvre aux urgences',)\n",
      "('Conjoncture Patience de rigueur',)\n",
      "----------\n",
      "Cluster 1 : 111 articles\n",
      "('Décidément les femmes souffrent de tous les maux. De la grossesse à laccouchement, en passant par les désagréments quengendre le syndrome pré-menstruel avec tout ce quil englobe comme nausées, fatigue, sautes dhumeur, douleurs abdominales ou du bas-ventre',)\n",
      "('Nouzha Skalli, ministre du Développement social, de la famille et de la solidarité, a présidé, hier au siège de son département, les travaux de la deuxième session ordinaire du Conseil dadministration de lEntraide nationale. Bilan des réalisations de lannée',)\n",
      "('Un convoi pour Gaza le 18 janvier PARIS (AFP)  Le Congrès mondial des imams et rabbins pour la paix a annoncé hier organiser un convoi humanitaire qui apportera à Gaza 1.000 t de produits de première nécessité le 18 janvier.',)\n",
      "(\"Le ministre Hellot Mampouya Matson s'engage à mettre sur pied un laboratoire de fabrication d'antipalustres C'est à la faveur de la traditionnelle cérémonie de présentation des vux du nouvel an à ses administrés que le ministre de la Recherche scientifique et de l'innovation technique, Hellot....\",)\n",
      "('Tertius ZONGO marque le lancement des travaux daménagement et de bitumage de rues au secteur 15 de Ouagadougou [2009-01-11 15:01:51] Le Premier Ministre, Son Excellence Tertius ZONGO a procédé le samedi 10janvier 2009 au lancement des travaux daménagement et de bitumage de rues au secteur 15 (patte doie) de la ville de Ouagadougou.',)\n",
      "----------\n",
      "Cluster 2 : 1632 articles\n",
      "('Hormones de croissance : verdict rendu ce mercredi',)\n",
      "('Le Maroc vole au secours du peuple palestinien',)\n",
      "('Israël bloque un bâteau humanitaire pour Gaza',)\n",
      "('Diourbel : la Délégation spéciale présente ses orientations prioritaires pour 2009',)\n",
      "('Accident de Metz-Borny : le conducteur en garde à vue',)\n",
      "----------\n",
      "Cluster 3 : 798 articles\n",
      "('Mondial de handball (J1) : la Croatie a du mal à faire ses preuves chez elle',)\n",
      "('Pour bien clore lannée, les Lions se sont offert un festin de rois',)\n",
      "(\"Victime d'une terrible chute, Daniel Albrecht souffre d'une hémorragie cérébrale\",)\n",
      "('Le prix du bl baisse mais pas celui de la farine, encore moins celui du pain',)\n",
      "('Le sénateur Kennedy, victime d\\'un malaise, \"se sent bien\", selon son entourage',)\n",
      "----------\n",
      "Cluster 4 : 120 articles\n",
      "('Mitchell réaffirme la volonté de paix américaine AL QODS OCCUPEE (AFP)  L\\'émissaire américain George Mitchell a réaffirmé hier à Al Qods l\\'engagement des Etats unis à uvrer \" activement et avec pugnacité \" en vue d\\'un règlement de paix au Proche-Orient.',)\n",
      "(\"Le Haut-Commissariat à l'Instruction civique et à l'Éducation morale organise un atelier de validation des supports pédagogiques dans l'éducation Luc Daniel Adamo Matéta, haut-commissaire à l'Instruction civique et à l'Éducation morale (HCICEM) a présidé, le 19 décembre 2008 dans la salle Merc du....\",)\n",
      "('Cest dans la capitale spirituelle que se tient un atelier délaboration dun plan stratégique de lutte contre le Sida. Cette rencontre qui connaît la participation de représentants des ministères concernés, du comité régional intersectoriel de lutte contre le',)\n",
      "(\"Mugabe refuse de démissionner Harare (AFP) Le Président zimbabwéen Robert Mugabe continuait hier d'exclure tout départ du pouvoir, alors même que son ministre de la Santé réclamait davantage d'aide étrangère pour lutter contre l'épidémie de choléra qui a fait 575 morts.\",)\n",
      "('Le diplomate en chef de l\\'Union européenne Javier Solana a jugé que \"le moment\" était venu d\\'exercer \"une pression maximale\" sur le président zimbawéen Robert Mugabe pour l\\'amener à démissionner.',)\n",
      "----------\n",
      "Cluster 5 : 794 articles\n",
      "('Amadou Gon, (DNC): Ceux qui veulent bloquer les élections, rêvent',)\n",
      "('Foot - Batta a mis larbitrage français dans le mur, Bruno Derrien',)\n",
      "(\"Le Hamas appelle l'Egypte à ouvrir ses frontières avec Gaza pour toujours et pour tous les habitants\",)\n",
      "('Engorgés, CHUV, hôpitaux de zone, EMS affichent Complet',)\n",
      "('Sao Tome and Principe: Saturday night fever, with condoms (Posted 1/3/2009)',)\n",
      "----------\n",
      "Cluster 6 : 611 articles\n",
      "('\" Notre priorité est de maintenir la santé des Djiboutiens \"',)\n",
      "('Éditorial : Gouvernance de la raison et citoyenneté de la sérénité',)\n",
      "(\"Russie: décès d'Alexis II, artisan de la renaissance de l'Eglise orthodoxe russe\",)\n",
      "(\"Rare série de surdoses en Ile-de-France due à de l'héroïne frelatée\",)\n",
      "(\"L'aide au développement face à la barrière de la langue\",)\n",
      "----------\n"
     ]
    }
   ],
   "source": [
    "from random import randint\n",
    "\n",
    "echantillons = []\n",
    "\n",
    "taille_echantillons = 5\n",
    "    \n",
    "for i in range(nb_clusters):\n",
    "    echantillons.append([])\n",
    "    #print(len(dic_res[i]))\n",
    "    for j in range(taille_echantillons):\n",
    "        indice = randint(0, len(dic_res[i]))\n",
    "        #print(indice)\n",
    "        echantillons[i].append(dic_res[i][indice][:1])\n",
    "\n",
    "for i in range(len(echantillons)):\n",
    "    print(\"Cluster %s : %s articles\" % (i, len(dic_res[i])))\n",
    "    for titre in echantillons[i]:\n",
    "        print(titre)\n",
    "    print(\"-\"*10)"
   ]
  },
  {
   "cell_type": "code",
   "execution_count": 112,
   "metadata": {},
   "outputs": [
    {
     "name": "stdout",
     "output_type": "stream",
     "text": [
      "Cluster 0: nnp nn fw jj nns in vbz vbp cd dt\n",
      "Cluster 1: nn nnp jj nns fw in vbp vbz cd dt\n",
      "Cluster 2: nnp nn nns jj fw vbz vbp in cd vbd\n",
      "Cluster 3: nn fw nnp jj nns in vbp vbz cd dt\n",
      "Cluster 4: nn nnp nns jj vbp vbz fw in cd cc\n",
      "Cluster 5: fw nn nnp nns jj in vbp cd vbz cc\n",
      "Cluster 6: nn nnp jj fw nns in vbp vbz cd dt\n"
     ]
    }
   ],
   "source": [
    "order_centroids = model.cluster_centers_.argsort()[:, ::-1]\n",
    "\n",
    "terms = V.get_feature_names()\n",
    "\n",
    "for i in range(nb_clusters):\n",
    "    print(\"Cluster %d:\" % i, end='')\n",
    "    for ind in order_centroids[i, :10]:\n",
    "        print(' %s' % terms[ind], end='')\n",
    "    print()"
   ]
  },
  {
   "cell_type": "code",
   "execution_count": null,
   "metadata": {},
   "outputs": [],
   "source": [
    "from sklearn.manifold import TSNE\n",
    "import matplotlib.pyplot as plt\n",
    "\n",
    "# Defining Model\n",
    "model_tsne = TSNE(learning_rate=100)\n",
    "\n",
    "# Fitting Model\n",
    "transformed = model_tsne.fit_transform(X)\n",
    "\n",
    "# Plotting 2d t-Sne\n",
    "x_axis = transformed[:, 0]\n",
    "y_axis = transformed[:, 1]\n",
    "\n",
    "plt.scatter(x_axis, y_axis, c=all_predictions)\n",
    "plt.savefig(\"test.png\")\n",
    "plt.show()"
   ]
  }
 ],
 "metadata": {
  "kernelspec": {
   "display_name": "Python 3",
   "language": "python",
   "name": "python3"
  },
  "language_info": {
   "codemirror_mode": {
    "name": "ipython",
    "version": 3
   },
   "file_extension": ".py",
   "mimetype": "text/x-python",
   "name": "python",
   "nbconvert_exporter": "python",
   "pygments_lexer": "ipython3",
   "version": "3.7.0"
  }
 },
 "nbformat": 4,
 "nbformat_minor": 2
}
