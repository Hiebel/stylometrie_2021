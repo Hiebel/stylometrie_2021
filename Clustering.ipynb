{
 "cells": [
  {
   "cell_type": "code",
   "execution_count": 1,
   "metadata": {},
   "outputs": [],
   "source": [
    "import json\n",
    "import glob\n",
    "\n",
    "def lire_json(chemin):\n",
    "    with open(chemin, \"r\", encoding=\"utf-8\") as fin:\n",
    "        dic = json.load(fin)\n",
    "    return dic\n",
    "\n",
    "def ecrire_json(chemin, dic):\n",
    "    with open(chemin, \"w\", encoding=\"utf-8\") as fout:\n",
    "        fout.write(json.dumps(dic, ensure_ascii=False, indent=2))"
   ]
  },
  {
   "cell_type": "code",
   "execution_count": 2,
   "metadata": {},
   "outputs": [
    {
     "name": "stdout",
     "output_type": "stream",
     "text": [
      "5685\n"
     ]
    }
   ],
   "source": [
    "with open(\"articlesTags.json\", \"r\", encoding=\"utf-8\") as fin:\n",
    "    dic = json.load(fin)\n",
    "\n",
    "print(len(dic))"
   ]
  },
  {
   "cell_type": "code",
   "execution_count": 37,
   "metadata": {},
   "outputs": [
    {
     "name": "stdout",
     "output_type": "stream",
     "text": [
      "5685\n",
      "french-docs/2009\\01\\01\\20090101_Elmoudjahid_69e98e7fc33abc878f8cfb6bd32fe498 [['Identification', 'de', 'trois', 'gènes', 'expliquant', 'la', 'virulence', 'de', 'la', 'grippe', 'espagnole', 'de', '1918'], ['NNP', 'FW', 'FW', 'NNS', 'VBP', 'JJ', 'NN', 'IN', 'FW', 'JJ', 'FW', 'IN', 'CD'], 'Identification de trois gènes expliquant la virulence de la grippe espagnole de 1918']\n"
     ]
    }
   ],
   "source": [
    "new_dic = {}\n",
    "\n",
    "for k, v in dic.items():\n",
    "    mots = []\n",
    "    tags = []\n",
    "    for mot, tag in v[1]:\n",
    "        mots.append(mot)\n",
    "        tags.append(tag)\n",
    "    new_dic[k] = []\n",
    "    new_dic[k].append(mots)\n",
    "    new_dic[k].append(tags)\n",
    "    new_dic[k].append(v[0])\n",
    "    \n",
    "print(len(new_dic))\n",
    "\n",
    "for k, v in new_dic.items():\n",
    "    print(k, v)\n",
    "    break"
   ]
  },
  {
   "cell_type": "code",
   "execution_count": 38,
   "metadata": {},
   "outputs": [
    {
     "name": "stdout",
     "output_type": "stream",
     "text": [
      "french-docs/2009\\01\\01\\20090101_Elmoudjahid_69e98e7fc33abc878f8cfb6bd32fe498\n",
      "[['NNP', 'FW', 'FW', 'NNS', 'VBP', 'JJ', 'NN', 'IN', 'FW', 'JJ', 'FW', 'IN', 'CD'], ['NNP', 'NNS', 'VBP', 'NN', ':', 'IN', 'NNS', 'VBP', 'JJR', 'NN', 'NN', 'NN', 'JJ', 'NN'], ['NNP', 'FW', 'FW', '.', 'NNS', 'NNS', ':']]\n",
      "['Identification de trois gènes expliquant la virulence de la grippe espagnole de 1918', 'Les chantiers du Président : On ne peut cacher le soleil avec un tamis', 'Gueule de bois ? Quelques remèdes...']\n"
     ]
    }
   ],
   "source": [
    "articles = [x for x in new_dic.keys()]\n",
    "print(articles[0])\n",
    "\n",
    "liste_tags = [x[1] for x in new_dic.values()]\n",
    "\n",
    "liste_titres = [x[2] for x in new_dic.values()]\n",
    "\n",
    "print(liste_tags[:3])\n",
    "print(liste_titres[:3])"
   ]
  },
  {
   "cell_type": "code",
   "execution_count": 46,
   "metadata": {},
   "outputs": [
    {
     "name": "stdout",
     "output_type": "stream",
     "text": [
      "['NNP', 'FW', 'FW', 'NNS', 'VBP', 'JJ', 'NN', 'IN', 'FW', 'JJ', 'FW', 'IN', 'CD']\n",
      "['NNP FW FW NNS VBP JJ NN IN FW JJ FW IN CD', 'NNP NNS VBP NN : IN NNS VBP JJR NN NN NN JJ NN', 'NNP FW FW . NNS NNS :']\n",
      "[[0 1 0 0 4 2 2 0 0 0 1 1 0 1 0 0 0 0 0 0 0 0 0 0 0 0 1 0 0]\n",
      " [0 0 0 0 0 1 1 1 0 0 5 1 0 2 0 0 0 0 0 0 0 0 0 0 0 0 2 0 0]\n",
      " [0 0 0 0 2 0 0 0 0 0 0 1 0 2 0 0 0 0 0 0 0 0 0 0 0 0 0 0 0]]\n",
      "5685\n",
      "[0 1 0 0 4 2 2 0 0 0 1 1 0 1 0 0 0 0 0 0 0 0 0 0 0 0 1 0 0]\n"
     ]
    }
   ],
   "source": [
    "from sklearn.cluster import KMeans\n",
    "from sklearn.feature_extraction.text import CountVectorizer\n",
    "\n",
    "nb_clusters = 7\n",
    "\n",
    "model = KMeans(n_clusters=nb_clusters)\n",
    "\n",
    "V = CountVectorizer()\n",
    "\n",
    "liste_t = [\" \".join(x) for x in liste_tags]\n",
    "\n",
    "print(liste_tags[0])\n",
    "print(liste_t[:3])\n",
    "\n",
    "X = V.fit_transform(liste_t).toarray()\n",
    "\n",
    "print(X[:3])\n",
    "print(len(X))\n",
    "print(X[0])"
   ]
  },
  {
   "cell_type": "code",
   "execution_count": 15,
   "metadata": {
    "scrolled": true
   },
   "outputs": [
    {
     "name": "stdout",
     "output_type": "stream",
     "text": [
      "[6 2 0 0 5 5 0 5 3 3 1 6 0 5 0 2 2 0 5 0 2 2 2 2 6 0 6 2 2 3 2 3 5 6 3 0 5\n",
      " 3 5 5 3 5 5 5 3 0 5 0 6 2 0 3 0 2 3 2 6 5 2 6 0 6 3 2 0 0 2 0 5 0 6 5 0 2\n",
      " 2 6 3 5 3 6 6 6 0 5 6 2 0 0 0 5 5 0 0 6 5 5 5 0 5 5]\n"
     ]
    }
   ],
   "source": [
    "model.fit(X)\n",
    "\n",
    "all_predictions = model.predict(X)\n",
    "\n",
    "print(all_predictions[:100])"
   ]
  },
  {
   "cell_type": "code",
   "execution_count": 98,
   "metadata": {},
   "outputs": [],
   "source": [
    "from random import randint\n",
    "\n",
    "dic_res = {}\n",
    "\n",
    "for i in range(len(X)):\n",
    "    #print(X[i])\n",
    "    num_cluster = all_predictions[i]\n",
    "    titre = liste_titres[i]\n",
    "    tags = liste_t[i]\n",
    "    #vecteur = X[i]\n",
    "    dic_res.setdefault(num_cluster,  [])\n",
    "    dic_res[num_cluster].append((titre, tags, vecteur))\n",
    "\n",
    "echantillons = []\n",
    "\n",
    "taille_echantillons = 5\n",
    "    \n",
    "for i in range(nb_clusters):\n",
    "    echantillons.append([])\n",
    "    #print(len(dic_res[i]))\n",
    "    for j in range(taille_echantillons):\n",
    "        indice = randint(0, len(dic_res[i]))\n",
    "        #print(indice)\n",
    "        echantillons[i].append(dic_res[i][indice][:1])"
   ]
  },
  {
   "cell_type": "code",
   "execution_count": 99,
   "metadata": {},
   "outputs": [
    {
     "name": "stdout",
     "output_type": "stream",
     "text": [
      "Cluster 0\n",
      "('Afrique en marche',)\n",
      "(\"L'Irlande rappelle tous ses produits à base de porc\",)\n",
      "(\"Elections provinciales en Irak: 15 millions d'Irakiens ont commencé à voter\",)\n",
      "('50 morts en 2008 sur les routes du Tarn',)\n",
      "('Polio: La communauté internationale alloue plus de 630 millions de dollars',)\n",
      "----------\n",
      "Cluster 1\n",
      "(\"Une ONG israélienne publie des faire-part de décès denfants palestiniens Al Qods occupée (AFP)  L'un des plus importants organismes de défense des droits de l'Homme israéliens a publié hier une pleine page de faire-part de décès d'enfants palestiniens victimes de tirs israéliens, dans le quotidien Haaretz .\",)\n",
      "(\"Une mue qualitative et quantitative du programme de planning familial M. Mondher Zenaïdi, ministre de la Santé publique, a mis l'accent sur l'intérêt accordé à la santé reproductive dans le cadre de la politique démographique et sanitaire tunisienne.\",)\n",
      "('Températures maximales pré-printanières et du sable du Sahara Ne soyez pas pris de court si, de bon matin, le pare-brise, les lucarnes et toute la carrosserie de votre voiture sont couverts de sable du Sahara.',)\n",
      "('La voix de la sagesse et de lespoir Par Mouldi MBAREK Le syndicat des journalistes palestiniens a décidé de proclamer : «Le Président Ben Ali, personnalité de lannée 2006». Les journalistes palestiniens soulignent que «le Président Ben Ali est dans le cur de toutes les familles palestiniennes et....',)\n",
      "(\"Les dirigeants africains sinquiètent dune diminution de laide DAVOS (AFP)  Les responsables africains présents à Davos ont exprimé hier leur inquiétude face à la crise mondiale et appelé les pays riches à ne pas tailler dans l'aide et les investissements sur leur continent.\",)\n",
      "----------\n",
      "Cluster 2\n",
      "(\"La Chine dote le Bénin d'un hôpital universitaire\",)\n",
      "(\"Sarkozy va élargir le numerus clausus médical dans le Nord et l'Est\",)\n",
      "('santé - Psychologie : pourquoi on ment à son médecin',)\n",
      "('LUA fait don de 100 000 dollars US au Zimbabwe frappé par le choléra',)\n",
      "('Mondial de hand: les Français surclassent la Slovaquie',)\n",
      "----------\n",
      "Cluster 3\n",
      "(\"Tendance : En hiver la luminothérapie c'est bon pour le moral\",)\n",
      "('Le gouvernement de la Guinée dissous après la mort du président Lansana Conté',)\n",
      "(\"Grèce: violences urbaines après la mort d'un jeune par la police\",)\n",
      "('« En pleine ville, en pleine rue, en plein jour »',)\n",
      "(\"Vague de violences en Grèce après la mort d'un jeune tué par un policier\",)\n",
      "----------\n",
      "Cluster 4\n",
      "('La communauté internationale alloue plus de 630 millions de dollars pour en finir une fois pour toutes avec la polio / Le Rotary International, la Fondation Gates, le Royaume-Uni et lAllemagne sengagent à fournir des fonds faisant cruellement défaut et exhortent les donateurs et gouvernements des pays endémiques à les aider à éradiquer la polio.',)\n",
      "('Réunion à Madrid pour concrétiser les promesses de Rome MADRID (AFP)  Les représentants de 95 pays se réunissent aujourdhui et demain à Madrid pour tenter de concrétiser les engagements pris lors du sommet de la FAO en juin 2008 à Rome contre la crise alimentaire, a annoncé le gouvernement espagnol.',)\n",
      "('Cest dans la capitale spirituelle que se tient un atelier délaboration dun plan stratégique de lutte contre le Sida. Cette rencontre qui connaît la participation de représentants des ministères concernés, du comité régional intersectoriel de lutte contre le',)\n",
      "('Un appel à la paix en Terre sainte CITE DU VATICAN (Reuters)  Le pape a souhaité hier que Noël soit source despoir pour tous ceux qui souffrent et il a lancé un appel à la paix en Terre sainte.',)\n",
      "('Mitchell réaffirme la volonté de paix américaine AL QODS OCCUPEE (AFP)  L\\'émissaire américain George Mitchell a réaffirmé hier à Al Qods l\\'engagement des Etats unis à uvrer \" activement et avec pugnacité \" en vue d\\'un règlement de paix au Proche-Orient.',)\n",
      "----------\n",
      "Cluster 5\n",
      "('Le Président Bédié aux populations de Bonoua : \"50% des Ivoiriens sont pauvres et une minorité s`empiffre\" (Nouveau Réveil)',)\n",
      "('Kiosque: le «Don Carlo» de Verdi donné à Milan fait des vagues dans la presse italienne. Première chahutée à la Scala',)\n",
      "('Le Cercle des Amis du Cameroun au chevet des lépreux de Mbingo.',)\n",
      "('Après avoir reçu Tzipi Livni, Nicolas Sarkozy reçoit Saad Hariri',)\n",
      "('Collision évitée avec le Falcon de Fillon : le pilote condamné',)\n",
      "----------\n",
      "Cluster 6\n",
      "(\"ALCOOLISATION Un médecin témoigne : Le binge drinking, la nouvelle façon de s'enivrer\",)\n",
      "('La porte de lenclos',)\n",
      "(\"Devant le Conseil des droits de l'Homme de l'ONU : Vive condamnation par le Maroc de la guerre israélienne contre Gaza\",)\n",
      "(\"Roche entend tirer parti des réformes de la santé à l'Est\",)\n",
      "('Lancement du projet de la \"Boucle de Dakar\" financé par la Chine',)\n",
      "----------\n"
     ]
    }
   ],
   "source": [
    "for i in range(len(echantillons)):\n",
    "    print(\"Cluster %s\" % i)\n",
    "    for titre in echantillons[i]:\n",
    "        print(titre)\n",
    "    print(\"-\"*10)"
   ]
  },
  {
   "cell_type": "code",
   "execution_count": 67,
   "metadata": {},
   "outputs": [
    {
     "data": {
      "image/png": "[encoded data removed]",
      "text/plain": [
       "<Figure size 432x288 with 1 Axes>"
      ]
     },
     "metadata": {
      "needs_background": "light"
     },
     "output_type": "display_data"
    }
   ],
   "source": [
    "from sklearn.manifold import TSNE\n",
    "import matplotlib.pyplot as plt\n",
    "\n",
    "# Defining Model\n",
    "model_tsne = TSNE(learning_rate=100)\n",
    "\n",
    "# Fitting Model\n",
    "transformed = model_tsne.fit_transform(X)\n",
    "\n",
    "# Plotting 2d t-Sne\n",
    "x_axis = transformed[:, 0]\n",
    "y_axis = transformed[:, 1]\n",
    "\n",
    "plt.scatter(x_axis, y_axis, c=all_predictions)\n",
    "plt.savefig(\"test.png\")\n",
    "plt.show()"
   ]
  },
  {
   "cell_type": "code",
   "execution_count": 26,
   "metadata": {},
   "outputs": [
    {
     "name": "stdout",
     "output_type": "stream",
     "text": [
      "0\n"
     ]
    }
   ],
   "source": []
  }
 ],
 "metadata": {
  "kernelspec": {
   "display_name": "Python 3",
   "language": "python",
   "name": "python3"
  },
  "language_info": {
   "codemirror_mode": {
    "name": "ipython",
    "version": 3
   },
   "file_extension": ".py",
   "mimetype": "text/x-python",
   "name": "python",
   "nbconvert_exporter": "python",
   "pygments_lexer": "ipython3",
   "version": "3.7.0"
  }
 },
 "nbformat": 4,
 "nbformat_minor": 2
}
