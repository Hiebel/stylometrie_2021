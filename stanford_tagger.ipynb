{
 "cells": [
  {
   "cell_type": "code",
   "execution_count": 1,
   "metadata": {},
   "outputs": [],
   "source": [
    "from nltk.tag import StanfordPOSTagger"
   ]
  },
  {
   "cell_type": "code",
   "execution_count": 5,
   "metadata": {},
   "outputs": [],
   "source": [
    "dossier_stanford = \"C:/Users/nicol/Desktop/M2S2/Stylometrie/stanford-postagger-full-2020-11-17\"\n",
    "\n",
    "jar = '%s/stanford-postagger-4.2.0.jar' % dossier_stanford\n",
    "model = '%s/models/french-ud.tagger' % dossier_stanford"
   ]
  },
  {
   "cell_type": "code",
   "execution_count": 6,
   "metadata": {},
   "outputs": [],
   "source": [
    "import os\n",
    "java_path = \"C:/Program Files (x86)/Common Files/Oracle/Java/javapath/java.exe\"\n",
    "os.environ['JAVAHOME'] = java_path"
   ]
  },
  {
   "cell_type": "code",
   "execution_count": 7,
   "metadata": {},
   "outputs": [
    {
     "name": "stdout",
     "output_type": "stream",
     "text": [
      "[('je', 'PRON'), ('suis', 'AUX'), ('libre', 'ADJ')]\n"
     ]
    }
   ],
   "source": [
    "pos_tagger = StanfordPOSTagger(model, jar, encoding='utf8' )\n",
    "res = pos_tagger.tag('je suis libre'.split())\n",
    "print(res)"
   ]
  },
  {
   "cell_type": "code",
   "execution_count": null,
   "metadata": {},
   "outputs": [],
   "source": [
    "from nltk import word_tokenize\n",
    "from fonctions import *\n",
    "\n",
    "dicTitres = lire_json('articles.json')\n",
    "\n",
    "dicTag = {}\n",
    "\n",
    "pos_tagger = StanfordPOSTagger(model, jar, encoding='utf8' )\n",
    "\n",
    "for path, titre in dicTitres.items():\n",
    "    tokens = word_tokenize(titre, language='french') # tokenisation du titre\n",
    "    tags = pos_tagger.tag(tokens) # tags des tokens\n",
    "    dicTag.setdefault(path, [titre, tags])\n",
    "\n",
    "ecrire_json('articlesTags_Stanford.json', dicTag)"
   ]
  },
  {
   "cell_type": "code",
   "execution_count": null,
   "metadata": {},
   "outputs": [],
   "source": []
  }
 ],
 "metadata": {
  "kernelspec": {
   "display_name": "Python 3",
   "language": "python",
   "name": "python3"
  },
  "language_info": {
   "codemirror_mode": {
    "name": "ipython",
    "version": 3
   },
   "file_extension": ".py",
   "mimetype": "text/x-python",
   "name": "python",
   "nbconvert_exporter": "python",
   "pygments_lexer": "ipython3",
   "version": "3.8.5"
  }
 },
 "nbformat": 4,
 "nbformat_minor": 4
}
