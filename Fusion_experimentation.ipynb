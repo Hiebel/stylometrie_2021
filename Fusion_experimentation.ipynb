{
 "cells": [
  {
   "cell_type": "code",
   "execution_count": 1,
   "metadata": {},
   "outputs": [],
   "source": [
    "from fonctions import *"
   ]
  },
  {
   "cell_type": "code",
   "execution_count": 17,
   "metadata": {},
   "outputs": [],
   "source": [
    "# chargement des étiquettes\n",
    "dic_tags_stanford = lire_json(\"articlesTags_stanford.json\")\n",
    "\n",
    "new_dic = reorganiser_POS(dic_tags_stanford)"
   ]
  },
  {
   "cell_type": "code",
   "execution_count": 18,
   "metadata": {},
   "outputs": [],
   "source": [
    "# séparation des informations dans trois listes différentes\n",
    "\n",
    "chemins_articles = [x for x in new_dic.keys()]\n",
    "\n",
    "liste_tags = [x[1] for x in new_dic.values()]\n",
    "\n",
    "liste_titres = [x[2] for x in new_dic.values()]"
   ]
  },
  {
   "cell_type": "code",
   "execution_count": 9,
   "metadata": {
    "scrolled": true
   },
   "outputs": [
    {
     "name": "stdout",
     "output_type": "stream",
     "text": [
      "[0. 0. 0. 0.]\n",
      "(5685, 4)\n"
     ]
    }
   ],
   "source": [
    "from scipy.sparse import csr_matrix\n",
    "from scipy.sparse import hstack\n",
    "\n",
    "X, V = creer_X(liste_tags, 4, 4)\n",
    "\n",
    "# chargements des entités nommées\n",
    "dic_EN = lire_json('entites_nommees.json')\n",
    "liste_tagEN = [x[1] for x in dic_EN.values()]\n",
    "liste_titres = [x[2] for x in dic_EN.values()]\n",
    "\n",
    "X_en, V_en = creer_X(liste_tagEN, 1, 1)\n",
    "\n",
    "# transformation en sparse matrix\n",
    "sparse = csr_matrix(X_en)\n",
    "\n",
    "# fusion des deux vectorisation\n",
    "X_fusion = hstack((X, sparse))"
   ]
  },
  {
   "cell_type": "code",
   "execution_count": 13,
   "metadata": {},
   "outputs": [
    {
     "name": "stdout",
     "output_type": "stream",
     "text": [
      "[2 1 2 2 0 1 4 0 3 0 4 3 2 0 2 4 3 2 0 2 0 0 4 2 3 2 4 3 3 3 3 3 1 4 3 3 1\n",
      " 1 1 1 3 1 4 4 3 3 3 4 3 3 1 1 0 1 1 2 0 0 4 3 1 1 1 3 2 1 2 3 1 2 3 3 2 3\n",
      " 2 3 1 1 1 0 4 3 4 1 3 2 4 3 3 4 3 4 3 3 0 2 4 0 4 4]\n",
      "{2: 1390, 1: 1050, 0: 764, 4: 868, 3: 1613}\n"
     ]
    }
   ],
   "source": [
    "model = creer_model_KM(8, X_fusion)\n",
    "\n",
    "predictions = model.predict(X_fusion)\n",
    "\n",
    "print(predictions[:100])\n",
    "print(effectifs_clusters(model))"
   ]
  },
  {
   "cell_type": "code",
   "execution_count": 14,
   "metadata": {},
   "outputs": [],
   "source": [
    "# redéfinition des fonctions existantes pour gérer l'affichage \n",
    "# à la fois des entités nommées et des tags de chaque titre\n",
    "\n",
    "def dic_complet2(X, predictions, liste_tags, liste_titres, liste_tagsEN):\n",
    "    dic_res = {}\n",
    "    for i in range(len(X)):\n",
    "        num_cluster = predictions[i]\n",
    "        titre = liste_titres[i]\n",
    "        tags = liste_tags[i]\n",
    "        en = liste_tagsEN[i]\n",
    "        vecteur = X[i]\n",
    "        dic_res.setdefault(num_cluster,  [])\n",
    "        dic_res[num_cluster].append((titre, tags, en, vecteur))\n",
    "    return dic_res\n",
    "\n",
    "def afficher_titres_hasard2(taille_echantillons, dictionnaire):\n",
    "    echantillons = []\n",
    "    tags = []\n",
    "    tagsEN = []\n",
    "    for i in range(len(dictionnaire)):\n",
    "        echantillons.append([])\n",
    "        tags.append([])\n",
    "        tagsEN.append([])\n",
    "        for j in range(taille_echantillons):\n",
    "            indice = randint(0, len(dictionnaire[i])-1)\n",
    "            echantillons[i].append(dictionnaire[i][indice][0])\n",
    "            tags[i].append(dictionnaire[i][indice][1])\n",
    "            tagsEN[i].append(dictionnaire[i][indice][2])\n",
    "\n",
    "    for i in range(len(echantillons)):\n",
    "        print(\"Cluster %s : %s articles\" % (i, len(dictionnaire[i])))\n",
    "        for j in range(len(echantillons[i])):\n",
    "            print(echantillons[i][j])\n",
    "            print(\" \".join(tags[i][j]))\n",
    "            print(\" \".join(tagsEN[i][j]))\n",
    "        print(\"-\"*10)"
   ]
  },
  {
   "cell_type": "code",
   "execution_count": 15,
   "metadata": {
    "collapsed": true
   },
   "outputs": [
    {
     "name": "stdout",
     "output_type": "stream",
     "text": [
      "Cluster 0 : 764 articles\n",
      "Dr Komla Siamévi, représentant de l'Oms :'Ce sera dramatique si les Arv perdent leur efficacité''\n",
      "PROPN PROPN PROPN PUNCT NOUN ADP NOUN PUNCT NOUN AUX ADJ SCONJ DET PROPN VERB DET NOUN PUNCT\n",
      "MISC ORG LOC\n",
      "CULTURE DE CONTRE SAISON : 122 groupements de Tambacounda soutenus par la Fao\n",
      "NOUN ADP PROPN PROPN PUNCT NUM NOUN ADP PROPN VERB ADP DET PROPN\n",
      "MISC LOC ORG\n",
      "----------\n",
      "Cluster 1 : 1050 articles\n",
      "Robert Mugabe sommé de quitter le pouvoir\n",
      "PROPN PROPN VERB ADP VERB DET NOUN\n",
      "PER\n",
      "Mauritanie / Santé Démarrage de la 3ème phase de la campagne nationale de vaccination contre le tétanos Nouakchott, 14 déc (AMI) - Le ministre de la santé, M. Mohamed Abdallahi Ould Siyam a supervisé dimanche au dispensaire de la Socogim dans la moughataa du Ksar le démarrage de la 3ème phase de la....\n",
      "PROPN PUNCT NOUN NOUN ADP DET ADJ NOUN ADP DET NOUN ADJ ADP NOUN ADP DET NOUN PROPN PUNCT NUM NOUN PUNCT NOUN PUNCT PUNCT DET NOUN ADP DET NOUN PUNCT NOUN PROPN PROPN PROPN PROPN AUX VERB NOUN ADP NOUN ADP DET PROPN ADP DET NOUN DET PROPN DET NOUN ADP DET ADJ NOUN ADP DET PUNCT\n",
      "LOC PER PER LOC LOC\n",
      "----------\n",
      "Cluster 2 : 1390 articles\n",
      "Programme du gouvernement de 2006 à 2010\n",
      "NOUN DET NOUN ADP NUM ADP NUM\n",
      "\n",
      "Les \"10 000 morts annuels\" par accidents médicaux \"sont évitables\", estime un urgentiste\n",
      "DET NOUN NUM NUM NOUN ADJ PUNCT ADP NOUN ADJ PRON AUX ADJ PUNCT PUNCT VERB DET NOUN\n",
      "\n",
      "----------\n",
      "Cluster 3 : 1613 articles\n",
      "Cancer: un pas en avant pour les chercheurs de l'UCL\n",
      "NOUN PUNCT DET NOUN ADP NOUN ADP DET NOUN ADP PROPN\n",
      "LOC LOC\n",
      "Hormones: Verdict attendu\n",
      "NOUN PUNCT NOUN VERB\n",
      "LOC LOC\n",
      "----------\n",
      "Cluster 4 : 868 articles\n",
      "PME : Le contentieux avec les banques soumis au Premier ministre\n",
      "PROPN PUNCT DET NOUN ADP DET NOUN VERB ADP NUM NOUN\n",
      "MISC\n",
      "«Le virus influenza de cette saison est particulièrement virulent»\n",
      "PUNCT DET NOUN VERB ADP DET NOUN AUX ADV VERB PUNCT\n",
      "MISC LOC\n",
      "----------\n"
     ]
    }
   ],
   "source": [
    "# extraction de titres d'articles au hasard pour chaque cluster\n",
    "\n",
    "dictionnaire = dic_complet2(X, predictions, liste_tags, liste_titres, liste_tagEN)\n",
    "\n",
    "afficher_titres_hasard2(2, dictionnaire)"
   ]
  },
  {
   "cell_type": "code",
   "execution_count": null,
   "metadata": {},
   "outputs": [],
   "source": []
  }
 ],
 "metadata": {
  "kernelspec": {
   "display_name": "Python 3",
   "language": "python",
   "name": "python3"
  },
  "language_info": {
   "codemirror_mode": {
    "name": "ipython",
    "version": 3
   },
   "file_extension": ".py",
   "mimetype": "text/x-python",
   "name": "python",
   "nbconvert_exporter": "python",
   "pygments_lexer": "ipython3",
   "version": "3.8.5"
  }
 },
 "nbformat": 4,
 "nbformat_minor": 4
}
